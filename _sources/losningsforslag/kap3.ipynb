{
 "cells": [
  {
   "cell_type": "markdown",
   "metadata": {},
   "source": [
    "# 3. Kontrollstrukturer og funksjoner\n",
    "\n",
    "## Underveisoppgaver\n",
    "\n",
    "### Underveisoppgave 3.1\n",
    "For eksempel: "
   ]
  },
  {
   "cell_type": "code",
   "execution_count": 2,
   "metadata": {},
   "outputs": [
    {
     "name": "stdin",
     "output_type": "stream",
     "text": [
      "Hvor gammel er du? 29\n"
     ]
    },
    {
     "name": "stdout",
     "output_type": "stream",
     "text": [
      "Du er bare ungdommen\n"
     ]
    }
   ],
   "source": [
    "alder = float(input(\"Hvor gammel er du?\"))\n",
    "\n",
    "if alder < 10: \n",
    "    print(\"Du er et barn\")\n",
    "elif alder < 30: \n",
    "    print(\"Du er bare ungdommen\")\n",
    "elif alder < 50: \n",
    "    print(\"Du er i din beste alder\")\n",
    "else: \n",
    "    print(\"Jamen, du er jo bare ungdommen\")"
   ]
  },
  {
   "cell_type": "markdown",
   "metadata": {},
   "source": [
    "### Underveisoppgave 3.2\n",
    "Én fordel er at vi får tydeliggjort at det er tre ulike muligheter for antallet løsninger, og at det er rotuttrykket som avgjør det. \n",
    "\n",
    "### Underveisoppgave 3.3\n",
    "Mengden kommentarer vi komme litt an på hva som er hensikten med kommentarene. Under har vi et forslag der vi prøver å forklare de matematiske delene av koden, men vi antar at leseren forstår hva enkle kodeuttrykk gjør. "
   ]
  },
  {
   "cell_type": "code",
   "execution_count": 1,
   "metadata": {},
   "outputs": [
    {
     "name": "stdout",
     "output_type": "stream",
     "text": [
      "7590.0\n",
      "7681.08\n",
      "7773.25296\n",
      "7866.53199552\n",
      "7960.93037946624\n",
      "8056.461544019835\n",
      "8153.139082548073\n",
      "8250.97675153865\n",
      "8349.988472557114\n",
      "8450.1883342278\n",
      "8551.590594238533\n",
      "8654.209681369395\n",
      "8758.060197545828\n",
      "8863.156919916379\n",
      "8969.514802955375\n",
      "9077.148980590839\n",
      "9186.074768357928\n",
      "9296.307665578224\n",
      "9407.863357565164\n",
      "9520.757717855946\n",
      "9635.006810470217\n",
      "9750.62689219586\n",
      "9867.63441490221\n",
      "9986.046027881037\n",
      "10105.878580215609\n",
      "Det tar 25 før du har 10000 kr i banken dersom renta er: 1.2 %.\n"
     ]
    }
   ],
   "source": [
    "startsum = 7500 \n",
    "saldo = startsum # Setter saldoen i begynnelsen til startsummen. \n",
    "sluttsum = 10000 \n",
    "rente = 0.012 # 0.012 er det samme som 1.2 % \n",
    "tid = 0 # Vi setter tiden vi starter ved til 0. \n",
    "\n",
    "while saldo <= sluttsum:\n",
    "    # Vi legger til på saldoen så lenge den er for liten. \n",
    "    saldo = saldo + saldo*rente\n",
    "    tid = tid + 1\n",
    "    print(saldo)\n",
    "\n",
    "print(\"Det tar\", tid, \"før du har\", sluttsum,\n",
    "\"kr i banken dersom renta er:\", rente*100, \"%.\")\n"
   ]
  },
  {
   "cell_type": "markdown",
   "metadata": {},
   "source": [
    "### Underveisoppgave 3.4: Definere en funksjon "
   ]
  },
  {
   "cell_type": "code",
   "execution_count": 4,
   "metadata": {},
   "outputs": [
    {
     "name": "stdout",
     "output_type": "stream",
     "text": [
      "23\n"
     ]
    }
   ],
   "source": [
    "def min_sum(liste):\n",
    "    summen = 0\n",
    "    for element in liste: \n",
    "        summen += element\n",
    "    return summen\n",
    "\n",
    "a = [3, 6, 3, 6, 5]\n",
    "print(min_sum(a))"
   ]
  },
  {
   "cell_type": "code",
   "execution_count": null,
   "metadata": {},
   "outputs": [],
   "source": []
  },
  {
   "cell_type": "markdown",
   "metadata": {},
   "source": [
    "## Vilkår\n",
    "\n",
    "### Oppgave 1\n"
   ]
  },
  {
   "cell_type": "code",
   "execution_count": 2,
   "metadata": {},
   "outputs": [
    {
     "name": "stdout",
     "output_type": "stream",
     "text": [
      "a er mindre enn b\n"
     ]
    }
   ],
   "source": [
    "a = 5\n",
    "b = 10\n",
    "\n",
    "if a > b:\n",
    "    print(\"a er større enn b\")\n",
    "elif a < b:\n",
    "    print(\"a er mindre enn b\")\n",
    "else:\n",
    "    print(\"a og b er like store\")"
   ]
  },
  {
   "cell_type": "markdown",
   "metadata": {},
   "source": [
    "### Oppgave 2"
   ]
  },
  {
   "cell_type": "code",
   "execution_count": 4,
   "metadata": {},
   "outputs": [
    {
     "name": "stdin",
     "output_type": "stream",
     "text": [
      "Tast din alder:  20\n"
     ]
    },
    {
     "name": "stdout",
     "output_type": "stream",
     "text": [
      "Du er ung og frisk!\n"
     ]
    }
   ],
   "source": [
    "alder = int(input(\"Tast din alder: \"))\n",
    "\n",
    "if alder > 40:\n",
    "    print(\"Du er godt voksen!\")\n",
    "else:\n",
    "    print(\"Du er ung og frisk!\")"
   ]
  },
  {
   "cell_type": "markdown",
   "metadata": {},
   "source": [
    "### Oppgave 3"
   ]
  },
  {
   "cell_type": "code",
   "execution_count": 6,
   "metadata": {},
   "outputs": [
    {
     "name": "stdin",
     "output_type": "stream",
     "text": [
      "Tast inn første tall:  3\n",
      "Tast inn andre tall:  4\n",
      "Tast regneoperasjon:  *\n"
     ]
    },
    {
     "name": "stdout",
     "output_type": "stream",
     "text": [
      "12.0\n"
     ]
    }
   ],
   "source": [
    "a = float(input(\"Tast inn første tall: \"))\n",
    "b = float(input(\"Tast inn andre tall: \"))\n",
    "operasjon = input(\"Tast regneoperasjon: \")\n",
    "\n",
    "if operasjon == \"+\":\n",
    "    print(a + b)\n",
    "elif operasjon == \"-\":\n",
    "    print(a - b)\n",
    "elif operasjon == \"*\":\n",
    "    print(a * b)\n",
    "elif operasjon == \"/\":\n",
    "    print(a / b)\n",
    "else:\n",
    "    print(\"Ukjent regneoperasjon\")"
   ]
  },
  {
   "cell_type": "markdown",
   "metadata": {},
   "source": [
    "### Oppgave 4"
   ]
  },
  {
   "cell_type": "code",
   "execution_count": 11,
   "metadata": {},
   "outputs": [
    {
     "name": "stdin",
     "output_type": "stream",
     "text": [
      "Tast inn startverdi:  4\n",
      "Tast inn sluttverdi:  3\n"
     ]
    },
    {
     "name": "stdout",
     "output_type": "stream",
     "text": [
      "Nedgang på 25.0 prosent\n"
     ]
    }
   ],
   "source": [
    "start = float(input(\"Tast inn startverdi: \"))\n",
    "slutt = float(input(\"Tast inn sluttverdi: \"))\n",
    "\n",
    "endring = slutt/start\n",
    "\n",
    "if endring > 1:\n",
    "    print(\"Økning på\", (endring-1)*100, \"prosent\")\n",
    "else:\n",
    "    print(\"Nedgang på\", (1-endring)*100, \"prosent\")"
   ]
  },
  {
   "cell_type": "markdown",
   "metadata": {},
   "source": [
    "### Oppgave 5"
   ]
  },
  {
   "cell_type": "code",
   "execution_count": 12,
   "metadata": {},
   "outputs": [
    {
     "name": "stdin",
     "output_type": "stream",
     "text": [
      "Tast ditt tall:  9\n"
     ]
    },
    {
     "name": "stdout",
     "output_type": "stream",
     "text": [
      "3 er en faktor i tallet\n"
     ]
    }
   ],
   "source": [
    "tall = int(input(\"Tast ditt tall: \"))\n",
    "\n",
    "if tall % 3 == 0:\n",
    "    print(\"3 er en faktor i tallet\")\n",
    "else:\n",
    "    print(\"3 er ikke en faktor i tallet\")"
   ]
  },
  {
   "cell_type": "markdown",
   "metadata": {},
   "source": [
    "### Oppgave 6"
   ]
  },
  {
   "cell_type": "code",
   "execution_count": 14,
   "metadata": {},
   "outputs": [
    {
     "name": "stdin",
     "output_type": "stream",
     "text": [
      "Tast ditt tall:  6\n"
     ]
    },
    {
     "name": "stdout",
     "output_type": "stream",
     "text": [
      "Dette er et partall\n"
     ]
    }
   ],
   "source": [
    "tall = int(input(\"Tast ditt tall: \"))\n",
    "\n",
    "if tall % 2 == 0:\n",
    "    print(\"Dette er et partall\")"
   ]
  },
  {
   "cell_type": "markdown",
   "metadata": {},
   "source": [
    "### Oppgave 7"
   ]
  },
  {
   "cell_type": "code",
   "execution_count": 15,
   "metadata": {},
   "outputs": [
    {
     "name": "stdin",
     "output_type": "stream",
     "text": [
      "Tast ditt tall:  5\n"
     ]
    },
    {
     "name": "stdout",
     "output_type": "stream",
     "text": [
      "Dette er et oddetall\n"
     ]
    }
   ],
   "source": [
    "tall = int(input(\"Tast ditt tall: \"))\n",
    "\n",
    "if tall % 2 == 0:\n",
    "    print(\"Dette er et partall\")\n",
    "else:\n",
    "    print(\"Dette er et oddetall\")"
   ]
  },
  {
   "cell_type": "markdown",
   "metadata": {},
   "source": [
    "### Oppgave 8"
   ]
  },
  {
   "cell_type": "code",
   "execution_count": 16,
   "metadata": {},
   "outputs": [
    {
     "name": "stdin",
     "output_type": "stream",
     "text": [
      "Tast inn verdi for a:  5\n",
      "Tast inn verdi for b:  4\n",
      "Tast inn verdi for c:  2\n"
     ]
    },
    {
     "name": "stdout",
     "output_type": "stream",
     "text": [
      "To reelle løsninger, x1 = 11.811388300841898 og x2 = -19.811388300841898\n"
     ]
    }
   ],
   "source": [
    "from numpy import sqrt\n",
    "\n",
    "a = float(input(\"Tast inn verdi for a: \"))\n",
    "b = float(input(\"Tast inn verdi for b: \"))\n",
    "c = float(input(\"Tast inn verdi for c: \"))\n",
    "\n",
    "x1 = -b + sqrt(4*a*c) / 2*a\n",
    "x2 = -b - sqrt(4*a*c) / 2*a\n",
    "\n",
    "if x1 == x2:\n",
    "    print(\"Én reell løsning:\", x1)\n",
    "else:\n",
    "    print(\"To reelle løsninger, x1 =\", x1, \"og x2 =\", x2)\n",
    "\n",
    "# Her tar vi ikke høyde for ingen reelle løsninger"
   ]
  },
  {
   "cell_type": "markdown",
   "metadata": {},
   "source": [
    "### Oppgave 9"
   ]
  },
  {
   "cell_type": "code",
   "execution_count": 19,
   "metadata": {},
   "outputs": [
    {
     "name": "stdin",
     "output_type": "stream",
     "text": [
      "Tast a for trekant 1:  2.00000000000000000001\n",
      "Tast b for trekant 1:  4\n",
      "Tast c for trekant 1:  6\n",
      "Tast a for trekant 2:  4\n",
      "Tast b for trekant 2:  8\n",
      "Tast c for trekant 2:  12\n"
     ]
    },
    {
     "name": "stdout",
     "output_type": "stream",
     "text": [
      "Trekantene er formlike\n"
     ]
    }
   ],
   "source": [
    "a1 = float(input(\"Tast a for trekant 1: \"))\n",
    "b1 = float(input(\"Tast b for trekant 1: \"))\n",
    "c1 = float(input(\"Tast c for trekant 1: \"))\n",
    "\n",
    "a2 = float(input(\"Tast a for trekant 2: \"))\n",
    "b2 = float(input(\"Tast b for trekant 2: \"))\n",
    "c2 = float(input(\"Tast c for trekant 2: \"))\n",
    "\n",
    "forhold_a = a1/a2\n",
    "forhold_b = b1/b2\n",
    "forhold_c = c1/c2\n",
    "\n",
    "eps = 1e-9\n",
    "\n",
    "if abs(forhold_a/forhold_b-1) < eps and abs(forhold_b/forhold_c-1) < eps:\n",
    "    print(\"Trekantene er formlike\")\n",
    "else:\n",
    "    print(\"Trekantene er ikke formlike\")"
   ]
  },
  {
   "cell_type": "markdown",
   "metadata": {},
   "source": [
    "Merk at vi tester for om trekantene er nesten formlike. Det kan hende vi får en liten avrundingsfeil, og de vil det gå galt om vi tester for `forhold_a == forhold_b`og `forhold_b == forhold_c`, som nok er det mest intuitive å gjøre her. "
   ]
  },
  {
   "cell_type": "markdown",
   "metadata": {},
   "source": [
    "### Oppgave 10\n",
    "\n",
    "_Kommer_"
   ]
  },
  {
   "cell_type": "markdown",
   "metadata": {},
   "source": [
    "### Oppgave 11\n",
    "\n",
    "_Kommer_"
   ]
  },
  {
   "cell_type": "markdown",
   "metadata": {},
   "source": [
    "### Oppgave 12\n",
    "\n",
    "_Kommer_"
   ]
  },
  {
   "cell_type": "markdown",
   "metadata": {},
   "source": [
    "### Oppgave 13\n",
    "\n",
    "_Kommer_"
   ]
  },
  {
   "cell_type": "markdown",
   "metadata": {},
   "source": [
    "## Løkker"
   ]
  },
  {
   "cell_type": "markdown",
   "metadata": {},
   "source": [
    "### Oppgave 14"
   ]
  },
  {
   "cell_type": "code",
   "execution_count": 20,
   "metadata": {
    "tags": [
     "output_scroll"
    ]
   },
   "outputs": [
    {
     "name": "stdout",
     "output_type": "stream",
     "text": [
      "Du er god til å lage løkker!\n",
      "Du er god til å lage løkker!\n",
      "Du er god til å lage løkker!\n",
      "Du er god til å lage løkker!\n",
      "Du er god til å lage løkker!\n",
      "Du er god til å lage løkker!\n",
      "Du er god til å lage løkker!\n",
      "Du er god til å lage løkker!\n",
      "Du er god til å lage løkker!\n",
      "Du er god til å lage løkker!\n",
      "Du er god til å lage løkker!\n",
      "Du er god til å lage løkker!\n",
      "Du er god til å lage løkker!\n",
      "Du er god til å lage løkker!\n",
      "Du er god til å lage løkker!\n",
      "Du er god til å lage løkker!\n",
      "Du er god til å lage løkker!\n",
      "Du er god til å lage løkker!\n",
      "Du er god til å lage løkker!\n",
      "Du er god til å lage løkker!\n",
      "Du er god til å lage løkker!\n",
      "Du er god til å lage løkker!\n",
      "Du er god til å lage løkker!\n",
      "Du er god til å lage løkker!\n",
      "Du er god til å lage løkker!\n",
      "Du er god til å lage løkker!\n",
      "Du er god til å lage løkker!\n",
      "Du er god til å lage løkker!\n",
      "Du er god til å lage løkker!\n",
      "Du er god til å lage løkker!\n",
      "Du er god til å lage løkker!\n",
      "Du er god til å lage løkker!\n",
      "Du er god til å lage løkker!\n",
      "Du er god til å lage løkker!\n",
      "Du er god til å lage løkker!\n",
      "Du er god til å lage løkker!\n",
      "Du er god til å lage løkker!\n",
      "Du er god til å lage løkker!\n",
      "Du er god til å lage løkker!\n",
      "Du er god til å lage løkker!\n",
      "Du er god til å lage løkker!\n",
      "Du er god til å lage løkker!\n",
      "Du er god til å lage løkker!\n",
      "Du er god til å lage løkker!\n",
      "Du er god til å lage løkker!\n",
      "Du er god til å lage løkker!\n",
      "Du er god til å lage løkker!\n",
      "Du er god til å lage løkker!\n",
      "Du er god til å lage løkker!\n",
      "Du er god til å lage løkker!\n",
      "Du er god til å lage løkker!\n",
      "Du er god til å lage løkker!\n",
      "Du er god til å lage løkker!\n",
      "Du er god til å lage løkker!\n",
      "Du er god til å lage løkker!\n",
      "Du er god til å lage løkker!\n",
      "Du er god til å lage løkker!\n",
      "Du er god til å lage løkker!\n",
      "Du er god til å lage løkker!\n",
      "Du er god til å lage løkker!\n",
      "Du er god til å lage løkker!\n",
      "Du er god til å lage løkker!\n",
      "Du er god til å lage løkker!\n",
      "Du er god til å lage løkker!\n",
      "Du er god til å lage løkker!\n",
      "Du er god til å lage løkker!\n",
      "Du er god til å lage løkker!\n",
      "Du er god til å lage løkker!\n",
      "Du er god til å lage løkker!\n",
      "Du er god til å lage løkker!\n",
      "Du er god til å lage løkker!\n",
      "Du er god til å lage løkker!\n",
      "Du er god til å lage løkker!\n",
      "Du er god til å lage løkker!\n",
      "Du er god til å lage løkker!\n",
      "Du er god til å lage løkker!\n",
      "Du er god til å lage løkker!\n",
      "Du er god til å lage løkker!\n",
      "Du er god til å lage løkker!\n",
      "Du er god til å lage løkker!\n",
      "Du er god til å lage løkker!\n",
      "Du er god til å lage løkker!\n",
      "Du er god til å lage løkker!\n",
      "Du er god til å lage løkker!\n",
      "Du er god til å lage løkker!\n",
      "Du er god til å lage løkker!\n",
      "Du er god til å lage løkker!\n",
      "Du er god til å lage løkker!\n",
      "Du er god til å lage løkker!\n",
      "Du er god til å lage løkker!\n",
      "Du er god til å lage løkker!\n",
      "Du er god til å lage løkker!\n",
      "Du er god til å lage løkker!\n",
      "Du er god til å lage løkker!\n",
      "Du er god til å lage løkker!\n",
      "Du er god til å lage løkker!\n",
      "Du er god til å lage løkker!\n",
      "Du er god til å lage løkker!\n",
      "Du er god til å lage løkker!\n",
      "Du er god til å lage løkker!\n",
      "Du er god til å lage løkker!\n",
      "Du er god til å lage løkker!\n",
      "Du er god til å lage løkker!\n",
      "Du er god til å lage løkker!\n",
      "Du er god til å lage løkker!\n",
      "Du er god til å lage løkker!\n",
      "Du er god til å lage løkker!\n",
      "Du er god til å lage løkker!\n",
      "Du er god til å lage løkker!\n",
      "Du er god til å lage løkker!\n",
      "Du er god til å lage løkker!\n",
      "Du er god til å lage løkker!\n",
      "Du er god til å lage løkker!\n",
      "Du er god til å lage løkker!\n",
      "Du er god til å lage løkker!\n",
      "Du er god til å lage løkker!\n",
      "Du er god til å lage løkker!\n",
      "Du er god til å lage løkker!\n",
      "Du er god til å lage løkker!\n",
      "Du er god til å lage løkker!\n",
      "Du er god til å lage løkker!\n",
      "Du er god til å lage løkker!\n",
      "Du er god til å lage løkker!\n",
      "Du er god til å lage løkker!\n",
      "Du er god til å lage løkker!\n",
      "Du er god til å lage løkker!\n",
      "Du er god til å lage løkker!\n",
      "Du er god til å lage løkker!\n",
      "Du er god til å lage løkker!\n",
      "Du er god til å lage løkker!\n",
      "Du er god til å lage løkker!\n",
      "Du er god til å lage løkker!\n",
      "Du er god til å lage løkker!\n",
      "Du er god til å lage løkker!\n",
      "Du er god til å lage løkker!\n",
      "Du er god til å lage løkker!\n",
      "Du er god til å lage løkker!\n",
      "Du er god til å lage løkker!\n",
      "Du er god til å lage løkker!\n",
      "Du er god til å lage løkker!\n",
      "Du er god til å lage løkker!\n",
      "Du er god til å lage løkker!\n",
      "Du er god til å lage løkker!\n",
      "Du er god til å lage løkker!\n",
      "Du er god til å lage løkker!\n",
      "Du er god til å lage løkker!\n",
      "Du er god til å lage løkker!\n",
      "Du er god til å lage løkker!\n",
      "Du er god til å lage løkker!\n",
      "Du er god til å lage løkker!\n",
      "Du er god til å lage løkker!\n",
      "Du er god til å lage løkker!\n",
      "Du er god til å lage løkker!\n",
      "Du er god til å lage løkker!\n",
      "Du er god til å lage løkker!\n",
      "Du er god til å lage løkker!\n",
      "Du er god til å lage løkker!\n",
      "Du er god til å lage løkker!\n",
      "Du er god til å lage løkker!\n",
      "Du er god til å lage løkker!\n",
      "Du er god til å lage løkker!\n",
      "Du er god til å lage løkker!\n",
      "Du er god til å lage løkker!\n",
      "Du er god til å lage løkker!\n",
      "Du er god til å lage løkker!\n",
      "Du er god til å lage løkker!\n",
      "Du er god til å lage løkker!\n",
      "Du er god til å lage løkker!\n",
      "Du er god til å lage løkker!\n",
      "Du er god til å lage løkker!\n",
      "Du er god til å lage løkker!\n",
      "Du er god til å lage løkker!\n",
      "Du er god til å lage løkker!\n",
      "Du er god til å lage løkker!\n",
      "Du er god til å lage løkker!\n",
      "Du er god til å lage løkker!\n",
      "Du er god til å lage løkker!\n",
      "Du er god til å lage løkker!\n",
      "Du er god til å lage løkker!\n",
      "Du er god til å lage løkker!\n",
      "Du er god til å lage løkker!\n",
      "Du er god til å lage løkker!\n",
      "Du er god til å lage løkker!\n",
      "Du er god til å lage løkker!\n",
      "Du er god til å lage løkker!\n",
      "Du er god til å lage løkker!\n",
      "Du er god til å lage løkker!\n",
      "Du er god til å lage løkker!\n",
      "Du er god til å lage løkker!\n",
      "Du er god til å lage løkker!\n",
      "Du er god til å lage løkker!\n",
      "Du er god til å lage løkker!\n",
      "Du er god til å lage løkker!\n",
      "Du er god til å lage løkker!\n",
      "Du er god til å lage løkker!\n",
      "Du er god til å lage løkker!\n",
      "Du er god til å lage løkker!\n",
      "Du er god til å lage løkker!\n",
      "Du er god til å lage løkker!\n",
      "Du er god til å lage løkker!\n",
      "Du er god til å lage løkker!\n",
      "Du er god til å lage løkker!\n",
      "Du er god til å lage løkker!\n",
      "Du er god til å lage løkker!\n",
      "Du er god til å lage løkker!\n",
      "Du er god til å lage løkker!\n",
      "Du er god til å lage løkker!\n",
      "Du er god til å lage løkker!\n",
      "Du er god til å lage løkker!\n",
      "Du er god til å lage løkker!\n",
      "Du er god til å lage løkker!\n",
      "Du er god til å lage løkker!\n",
      "Du er god til å lage løkker!\n",
      "Du er god til å lage løkker!\n",
      "Du er god til å lage løkker!\n",
      "Du er god til å lage løkker!\n",
      "Du er god til å lage løkker!\n",
      "Du er god til å lage løkker!\n",
      "Du er god til å lage løkker!\n",
      "Du er god til å lage løkker!\n",
      "Du er god til å lage løkker!\n",
      "Du er god til å lage løkker!\n",
      "Du er god til å lage løkker!\n",
      "Du er god til å lage løkker!\n",
      "Du er god til å lage løkker!\n",
      "Du er god til å lage løkker!\n",
      "Du er god til å lage løkker!\n",
      "Du er god til å lage løkker!\n",
      "Du er god til å lage løkker!\n",
      "Du er god til å lage løkker!\n",
      "Du er god til å lage løkker!\n",
      "Du er god til å lage løkker!\n",
      "Du er god til å lage løkker!\n",
      "Du er god til å lage løkker!\n",
      "Du er god til å lage løkker!\n",
      "Du er god til å lage løkker!\n",
      "Du er god til å lage løkker!\n",
      "Du er god til å lage løkker!\n",
      "Du er god til å lage løkker!\n",
      "Du er god til å lage løkker!\n",
      "Du er god til å lage løkker!\n",
      "Du er god til å lage løkker!\n",
      "Du er god til å lage løkker!\n",
      "Du er god til å lage løkker!\n",
      "Du er god til å lage løkker!\n",
      "Du er god til å lage løkker!\n",
      "Du er god til å lage løkker!\n",
      "Du er god til å lage løkker!\n",
      "Du er god til å lage løkker!\n",
      "Du er god til å lage løkker!\n",
      "Du er god til å lage løkker!\n",
      "Du er god til å lage løkker!\n",
      "Du er god til å lage løkker!\n",
      "Du er god til å lage løkker!\n",
      "Du er god til å lage løkker!\n",
      "Du er god til å lage løkker!\n",
      "Du er god til å lage løkker!\n",
      "Du er god til å lage løkker!\n",
      "Du er god til å lage løkker!\n",
      "Du er god til å lage løkker!\n",
      "Du er god til å lage løkker!\n",
      "Du er god til å lage løkker!\n",
      "Du er god til å lage løkker!\n",
      "Du er god til å lage løkker!\n",
      "Du er god til å lage løkker!\n",
      "Du er god til å lage løkker!\n",
      "Du er god til å lage løkker!\n",
      "Du er god til å lage løkker!\n",
      "Du er god til å lage løkker!\n",
      "Du er god til å lage løkker!\n",
      "Du er god til å lage løkker!\n",
      "Du er god til å lage løkker!\n",
      "Du er god til å lage løkker!\n",
      "Du er god til å lage løkker!\n",
      "Du er god til å lage løkker!\n",
      "Du er god til å lage løkker!\n",
      "Du er god til å lage løkker!\n",
      "Du er god til å lage løkker!\n",
      "Du er god til å lage løkker!\n",
      "Du er god til å lage løkker!\n",
      "Du er god til å lage løkker!\n",
      "Du er god til å lage løkker!\n",
      "Du er god til å lage løkker!\n",
      "Du er god til å lage løkker!\n",
      "Du er god til å lage løkker!\n",
      "Du er god til å lage løkker!\n",
      "Du er god til å lage løkker!\n",
      "Du er god til å lage løkker!\n",
      "Du er god til å lage løkker!\n",
      "Du er god til å lage løkker!\n",
      "Du er god til å lage løkker!\n",
      "Du er god til å lage løkker!\n",
      "Du er god til å lage løkker!\n",
      "Du er god til å lage løkker!\n",
      "Du er god til å lage løkker!\n",
      "Du er god til å lage løkker!\n",
      "Du er god til å lage løkker!\n",
      "Du er god til å lage løkker!\n",
      "Du er god til å lage løkker!\n",
      "Du er god til å lage løkker!\n",
      "Du er god til å lage løkker!\n",
      "Du er god til å lage løkker!\n",
      "Du er god til å lage løkker!\n",
      "Du er god til å lage løkker!\n",
      "Du er god til å lage løkker!\n",
      "Du er god til å lage løkker!\n",
      "Du er god til å lage løkker!\n",
      "Du er god til å lage løkker!\n",
      "Du er god til å lage løkker!\n",
      "Du er god til å lage løkker!\n",
      "Du er god til å lage løkker!\n",
      "Du er god til å lage løkker!\n",
      "Du er god til å lage løkker!\n",
      "Du er god til å lage løkker!\n",
      "Du er god til å lage løkker!\n",
      "Du er god til å lage løkker!\n",
      "Du er god til å lage løkker!\n",
      "Du er god til å lage løkker!\n",
      "Du er god til å lage løkker!\n",
      "Du er god til å lage løkker!\n",
      "Du er god til å lage løkker!\n",
      "Du er god til å lage løkker!\n",
      "Du er god til å lage løkker!\n",
      "Du er god til å lage løkker!\n",
      "Du er god til å lage løkker!\n",
      "Du er god til å lage løkker!\n",
      "Du er god til å lage løkker!\n",
      "Du er god til å lage løkker!\n",
      "Du er god til å lage løkker!\n",
      "Du er god til å lage løkker!\n",
      "Du er god til å lage løkker!\n",
      "Du er god til å lage løkker!\n",
      "Du er god til å lage løkker!\n",
      "Du er god til å lage løkker!\n",
      "Du er god til å lage løkker!\n",
      "Du er god til å lage løkker!\n",
      "Du er god til å lage løkker!\n",
      "Du er god til å lage løkker!\n",
      "Du er god til å lage løkker!\n",
      "Du er god til å lage løkker!\n",
      "Du er god til å lage løkker!\n",
      "Du er god til å lage løkker!\n",
      "Du er god til å lage løkker!\n",
      "Du er god til å lage løkker!\n",
      "Du er god til å lage løkker!\n",
      "Du er god til å lage løkker!\n",
      "Du er god til å lage løkker!\n",
      "Du er god til å lage løkker!\n",
      "Du er god til å lage løkker!\n",
      "Du er god til å lage løkker!\n",
      "Du er god til å lage løkker!\n",
      "Du er god til å lage løkker!\n",
      "Du er god til å lage løkker!\n",
      "Du er god til å lage løkker!\n",
      "Du er god til å lage løkker!\n",
      "Du er god til å lage løkker!\n",
      "Du er god til å lage løkker!\n",
      "Du er god til å lage løkker!\n",
      "Du er god til å lage løkker!\n",
      "Du er god til å lage løkker!\n",
      "Du er god til å lage løkker!\n",
      "Du er god til å lage løkker!\n",
      "Du er god til å lage løkker!\n",
      "Du er god til å lage løkker!\n",
      "Du er god til å lage løkker!\n",
      "Du er god til å lage løkker!\n",
      "Du er god til å lage løkker!\n",
      "Du er god til å lage løkker!\n",
      "Du er god til å lage løkker!\n",
      "Du er god til å lage løkker!\n",
      "Du er god til å lage løkker!\n",
      "Du er god til å lage løkker!\n",
      "Du er god til å lage løkker!\n",
      "Du er god til å lage løkker!\n",
      "Du er god til å lage løkker!\n",
      "Du er god til å lage løkker!\n",
      "Du er god til å lage løkker!\n",
      "Du er god til å lage løkker!\n",
      "Du er god til å lage løkker!\n",
      "Du er god til å lage løkker!\n",
      "Du er god til å lage løkker!\n",
      "Du er god til å lage løkker!\n",
      "Du er god til å lage løkker!\n",
      "Du er god til å lage løkker!\n",
      "Du er god til å lage løkker!\n",
      "Du er god til å lage løkker!\n",
      "Du er god til å lage løkker!\n",
      "Du er god til å lage løkker!\n",
      "Du er god til å lage løkker!\n",
      "Du er god til å lage løkker!\n",
      "Du er god til å lage løkker!\n",
      "Du er god til å lage løkker!\n",
      "Du er god til å lage løkker!\n",
      "Du er god til å lage løkker!\n",
      "Du er god til å lage løkker!\n",
      "Du er god til å lage løkker!\n",
      "Du er god til å lage løkker!\n",
      "Du er god til å lage løkker!\n",
      "Du er god til å lage løkker!\n",
      "Du er god til å lage løkker!\n",
      "Du er god til å lage løkker!\n",
      "Du er god til å lage løkker!\n",
      "Du er god til å lage løkker!\n",
      "Du er god til å lage løkker!\n",
      "Du er god til å lage løkker!\n",
      "Du er god til å lage løkker!\n",
      "Du er god til å lage løkker!\n",
      "Du er god til å lage løkker!\n",
      "Du er god til å lage løkker!\n",
      "Du er god til å lage løkker!\n",
      "Du er god til å lage løkker!\n",
      "Du er god til å lage løkker!\n",
      "Du er god til å lage løkker!\n",
      "Du er god til å lage løkker!\n",
      "Du er god til å lage løkker!\n",
      "Du er god til å lage løkker!\n",
      "Du er god til å lage løkker!\n",
      "Du er god til å lage løkker!\n",
      "Du er god til å lage løkker!\n",
      "Du er god til å lage løkker!\n",
      "Du er god til å lage løkker!\n",
      "Du er god til å lage løkker!\n",
      "Du er god til å lage løkker!\n",
      "Du er god til å lage løkker!\n",
      "Du er god til å lage løkker!\n",
      "Du er god til å lage løkker!\n",
      "Du er god til å lage løkker!\n",
      "Du er god til å lage løkker!\n",
      "Du er god til å lage løkker!\n",
      "Du er god til å lage løkker!\n",
      "Du er god til å lage løkker!\n",
      "Du er god til å lage løkker!\n",
      "Du er god til å lage løkker!\n",
      "Du er god til å lage løkker!\n",
      "Du er god til å lage løkker!\n",
      "Du er god til å lage løkker!\n",
      "Du er god til å lage løkker!\n",
      "Du er god til å lage løkker!\n",
      "Du er god til å lage løkker!\n",
      "Du er god til å lage løkker!\n",
      "Du er god til å lage løkker!\n",
      "Du er god til å lage løkker!\n",
      "Du er god til å lage løkker!\n",
      "Du er god til å lage løkker!\n",
      "Du er god til å lage løkker!\n",
      "Du er god til å lage løkker!\n",
      "Du er god til å lage løkker!\n",
      "Du er god til å lage løkker!\n",
      "Du er god til å lage løkker!\n",
      "Du er god til å lage løkker!\n",
      "Du er god til å lage løkker!\n",
      "Du er god til å lage løkker!\n",
      "Du er god til å lage løkker!\n",
      "Du er god til å lage løkker!\n",
      "Du er god til å lage løkker!\n",
      "Du er god til å lage løkker!\n",
      "Du er god til å lage løkker!\n",
      "Du er god til å lage løkker!\n",
      "Du er god til å lage løkker!\n",
      "Du er god til å lage løkker!\n",
      "Du er god til å lage løkker!\n",
      "Du er god til å lage løkker!\n",
      "Du er god til å lage løkker!\n",
      "Du er god til å lage løkker!\n",
      "Du er god til å lage løkker!\n",
      "Du er god til å lage løkker!\n",
      "Du er god til å lage løkker!\n",
      "Du er god til å lage løkker!\n",
      "Du er god til å lage løkker!\n",
      "Du er god til å lage løkker!\n",
      "Du er god til å lage løkker!\n",
      "Du er god til å lage løkker!\n",
      "Du er god til å lage løkker!\n",
      "Du er god til å lage løkker!\n",
      "Du er god til å lage løkker!\n",
      "Du er god til å lage løkker!\n",
      "Du er god til å lage løkker!\n",
      "Du er god til å lage løkker!\n",
      "Du er god til å lage løkker!\n",
      "Du er god til å lage løkker!\n",
      "Du er god til å lage løkker!\n",
      "Du er god til å lage løkker!\n",
      "Du er god til å lage løkker!\n",
      "Du er god til å lage løkker!\n",
      "Du er god til å lage løkker!\n",
      "Du er god til å lage løkker!\n",
      "Du er god til å lage løkker!\n",
      "Du er god til å lage løkker!\n",
      "Du er god til å lage løkker!\n",
      "Du er god til å lage løkker!\n",
      "Du er god til å lage løkker!\n",
      "Du er god til å lage løkker!\n",
      "Du er god til å lage løkker!\n",
      "Du er god til å lage løkker!\n",
      "Du er god til å lage løkker!\n",
      "Du er god til å lage løkker!\n",
      "Du er god til å lage løkker!\n",
      "Du er god til å lage løkker!\n",
      "Du er god til å lage løkker!\n",
      "Du er god til å lage løkker!\n",
      "Du er god til å lage løkker!\n",
      "Du er god til å lage løkker!\n",
      "Du er god til å lage løkker!\n",
      "Du er god til å lage løkker!\n",
      "Du er god til å lage løkker!\n",
      "Du er god til å lage løkker!\n",
      "Du er god til å lage løkker!\n",
      "Du er god til å lage løkker!\n",
      "Du er god til å lage løkker!\n",
      "Du er god til å lage løkker!\n",
      "Du er god til å lage løkker!\n",
      "Du er god til å lage løkker!\n",
      "Du er god til å lage løkker!\n",
      "Du er god til å lage løkker!\n",
      "Du er god til å lage løkker!\n",
      "Du er god til å lage løkker!\n",
      "Du er god til å lage løkker!\n",
      "Du er god til å lage løkker!\n",
      "Du er god til å lage løkker!\n",
      "Du er god til å lage løkker!\n",
      "Du er god til å lage løkker!\n",
      "Du er god til å lage løkker!\n",
      "Du er god til å lage løkker!\n",
      "Du er god til å lage løkker!\n",
      "Du er god til å lage løkker!\n",
      "Du er god til å lage løkker!\n",
      "Du er god til å lage løkker!\n",
      "Du er god til å lage løkker!\n",
      "Du er god til å lage løkker!\n",
      "Du er god til å lage løkker!\n",
      "Du er god til å lage løkker!\n",
      "Du er god til å lage løkker!\n",
      "Du er god til å lage løkker!\n",
      "Du er god til å lage løkker!\n",
      "Du er god til å lage løkker!\n",
      "Du er god til å lage løkker!\n",
      "Du er god til å lage løkker!\n",
      "Du er god til å lage løkker!\n",
      "Du er god til å lage løkker!\n",
      "Du er god til å lage løkker!\n",
      "Du er god til å lage løkker!\n",
      "Du er god til å lage løkker!\n",
      "Du er god til å lage løkker!\n",
      "Du er god til å lage løkker!\n",
      "Du er god til å lage løkker!\n",
      "Du er god til å lage løkker!\n",
      "Du er god til å lage løkker!\n",
      "Du er god til å lage løkker!\n",
      "Du er god til å lage løkker!\n",
      "Du er god til å lage løkker!\n",
      "Du er god til å lage løkker!\n",
      "Du er god til å lage løkker!\n",
      "Du er god til å lage løkker!\n",
      "Du er god til å lage løkker!\n",
      "Du er god til å lage løkker!\n",
      "Du er god til å lage løkker!\n",
      "Du er god til å lage løkker!\n",
      "Du er god til å lage løkker!\n",
      "Du er god til å lage løkker!\n",
      "Du er god til å lage løkker!\n",
      "Du er god til å lage løkker!\n",
      "Du er god til å lage løkker!\n",
      "Du er god til å lage løkker!\n",
      "Du er god til å lage løkker!\n",
      "Du er god til å lage løkker!\n",
      "Du er god til å lage løkker!\n",
      "Du er god til å lage løkker!\n",
      "Du er god til å lage løkker!\n",
      "Du er god til å lage løkker!\n",
      "Du er god til å lage løkker!\n",
      "Du er god til å lage løkker!\n",
      "Du er god til å lage løkker!\n",
      "Du er god til å lage løkker!\n",
      "Du er god til å lage løkker!\n",
      "Du er god til å lage løkker!\n",
      "Du er god til å lage løkker!\n",
      "Du er god til å lage løkker!\n",
      "Du er god til å lage løkker!\n",
      "Du er god til å lage løkker!\n",
      "Du er god til å lage løkker!\n",
      "Du er god til å lage løkker!\n",
      "Du er god til å lage løkker!\n",
      "Du er god til å lage løkker!\n",
      "Du er god til å lage løkker!\n",
      "Du er god til å lage løkker!\n",
      "Du er god til å lage løkker!\n",
      "Du er god til å lage løkker!\n",
      "Du er god til å lage løkker!\n",
      "Du er god til å lage løkker!\n",
      "Du er god til å lage løkker!\n",
      "Du er god til å lage løkker!\n",
      "Du er god til å lage løkker!\n",
      "Du er god til å lage løkker!\n",
      "Du er god til å lage løkker!\n",
      "Du er god til å lage løkker!\n",
      "Du er god til å lage løkker!\n",
      "Du er god til å lage løkker!\n",
      "Du er god til å lage løkker!\n",
      "Du er god til å lage løkker!\n",
      "Du er god til å lage løkker!\n",
      "Du er god til å lage løkker!\n",
      "Du er god til å lage løkker!\n",
      "Du er god til å lage løkker!\n",
      "Du er god til å lage løkker!\n",
      "Du er god til å lage løkker!\n",
      "Du er god til å lage løkker!\n",
      "Du er god til å lage løkker!\n",
      "Du er god til å lage løkker!\n",
      "Du er god til å lage løkker!\n",
      "Du er god til å lage løkker!\n",
      "Du er god til å lage løkker!\n",
      "Du er god til å lage løkker!\n",
      "Du er god til å lage løkker!\n",
      "Du er god til å lage løkker!\n",
      "Du er god til å lage løkker!\n",
      "Du er god til å lage løkker!\n",
      "Du er god til å lage løkker!\n",
      "Du er god til å lage løkker!\n",
      "Du er god til å lage løkker!\n",
      "Du er god til å lage løkker!\n",
      "Du er god til å lage løkker!\n",
      "Du er god til å lage løkker!\n",
      "Du er god til å lage løkker!\n",
      "Du er god til å lage løkker!\n",
      "Du er god til å lage løkker!\n",
      "Du er god til å lage løkker!\n",
      "Du er god til å lage løkker!\n",
      "Du er god til å lage løkker!\n",
      "Du er god til å lage løkker!\n",
      "Du er god til å lage løkker!\n",
      "Du er god til å lage løkker!\n",
      "Du er god til å lage løkker!\n",
      "Du er god til å lage løkker!\n",
      "Du er god til å lage løkker!\n",
      "Du er god til å lage løkker!\n",
      "Du er god til å lage løkker!\n",
      "Du er god til å lage løkker!\n",
      "Du er god til å lage løkker!\n",
      "Du er god til å lage løkker!\n",
      "Du er god til å lage løkker!\n",
      "Du er god til å lage løkker!\n",
      "Du er god til å lage løkker!\n",
      "Du er god til å lage løkker!\n",
      "Du er god til å lage løkker!\n",
      "Du er god til å lage løkker!\n",
      "Du er god til å lage løkker!\n",
      "Du er god til å lage løkker!\n",
      "Du er god til å lage løkker!\n",
      "Du er god til å lage løkker!\n",
      "Du er god til å lage løkker!\n",
      "Du er god til å lage løkker!\n",
      "Du er god til å lage løkker!\n",
      "Du er god til å lage løkker!\n",
      "Du er god til å lage løkker!\n",
      "Du er god til å lage løkker!\n",
      "Du er god til å lage løkker!\n",
      "Du er god til å lage løkker!\n",
      "Du er god til å lage løkker!\n",
      "Du er god til å lage løkker!\n",
      "Du er god til å lage løkker!\n",
      "Du er god til å lage løkker!\n",
      "Du er god til å lage løkker!\n",
      "Du er god til å lage løkker!\n",
      "Du er god til å lage løkker!\n",
      "Du er god til å lage løkker!\n",
      "Du er god til å lage løkker!\n",
      "Du er god til å lage løkker!\n",
      "Du er god til å lage løkker!\n",
      "Du er god til å lage løkker!\n",
      "Du er god til å lage løkker!\n",
      "Du er god til å lage løkker!\n",
      "Du er god til å lage løkker!\n",
      "Du er god til å lage løkker!\n",
      "Du er god til å lage løkker!\n",
      "Du er god til å lage løkker!\n",
      "Du er god til å lage løkker!\n",
      "Du er god til å lage løkker!\n",
      "Du er god til å lage løkker!\n",
      "Du er god til å lage løkker!\n",
      "Du er god til å lage løkker!\n",
      "Du er god til å lage løkker!\n",
      "Du er god til å lage løkker!\n",
      "Du er god til å lage løkker!\n",
      "Du er god til å lage løkker!\n",
      "Du er god til å lage løkker!\n",
      "Du er god til å lage løkker!\n",
      "Du er god til å lage løkker!\n",
      "Du er god til å lage løkker!\n",
      "Du er god til å lage løkker!\n",
      "Du er god til å lage løkker!\n",
      "Du er god til å lage løkker!\n",
      "Du er god til å lage løkker!\n",
      "Du er god til å lage løkker!\n",
      "Du er god til å lage løkker!\n",
      "Du er god til å lage løkker!\n",
      "Du er god til å lage løkker!\n",
      "Du er god til å lage løkker!\n",
      "Du er god til å lage løkker!\n",
      "Du er god til å lage løkker!\n",
      "Du er god til å lage løkker!\n",
      "Du er god til å lage løkker!\n",
      "Du er god til å lage løkker!\n",
      "Du er god til å lage løkker!\n",
      "Du er god til å lage løkker!\n",
      "Du er god til å lage løkker!\n",
      "Du er god til å lage løkker!\n",
      "Du er god til å lage løkker!\n",
      "Du er god til å lage løkker!\n",
      "Du er god til å lage løkker!\n",
      "Du er god til å lage løkker!\n",
      "Du er god til å lage løkker!\n",
      "Du er god til å lage løkker!\n",
      "Du er god til å lage løkker!\n",
      "Du er god til å lage løkker!\n",
      "Du er god til å lage løkker!\n",
      "Du er god til å lage løkker!\n",
      "Du er god til å lage løkker!\n",
      "Du er god til å lage løkker!\n",
      "Du er god til å lage løkker!\n",
      "Du er god til å lage løkker!\n",
      "Du er god til å lage løkker!\n",
      "Du er god til å lage løkker!\n",
      "Du er god til å lage løkker!\n",
      "Du er god til å lage løkker!\n",
      "Du er god til å lage løkker!\n",
      "Du er god til å lage løkker!\n",
      "Du er god til å lage løkker!\n",
      "Du er god til å lage løkker!\n",
      "Du er god til å lage løkker!\n",
      "Du er god til å lage løkker!\n",
      "Du er god til å lage løkker!\n",
      "Du er god til å lage løkker!\n",
      "Du er god til å lage løkker!\n",
      "Du er god til å lage løkker!\n",
      "Du er god til å lage løkker!\n",
      "Du er god til å lage løkker!\n",
      "Du er god til å lage løkker!\n",
      "Du er god til å lage løkker!\n",
      "Du er god til å lage løkker!\n",
      "Du er god til å lage løkker!\n",
      "Du er god til å lage løkker!\n",
      "Du er god til å lage løkker!\n",
      "Du er god til å lage løkker!\n",
      "Du er god til å lage løkker!\n",
      "Du er god til å lage løkker!\n",
      "Du er god til å lage løkker!\n",
      "Du er god til å lage løkker!\n",
      "Du er god til å lage løkker!\n",
      "Du er god til å lage løkker!\n",
      "Du er god til å lage løkker!\n",
      "Du er god til å lage løkker!\n",
      "Du er god til å lage løkker!\n",
      "Du er god til å lage løkker!\n",
      "Du er god til å lage løkker!\n",
      "Du er god til å lage løkker!\n",
      "Du er god til å lage løkker!\n",
      "Du er god til å lage løkker!\n",
      "Du er god til å lage løkker!\n",
      "Du er god til å lage løkker!\n",
      "Du er god til å lage løkker!\n",
      "Du er god til å lage løkker!\n",
      "Du er god til å lage løkker!\n",
      "Du er god til å lage løkker!\n",
      "Du er god til å lage løkker!\n",
      "Du er god til å lage løkker!\n",
      "Du er god til å lage løkker!\n",
      "Du er god til å lage løkker!\n",
      "Du er god til å lage løkker!\n",
      "Du er god til å lage løkker!\n",
      "Du er god til å lage løkker!\n",
      "Du er god til å lage løkker!\n",
      "Du er god til å lage løkker!\n",
      "Du er god til å lage løkker!\n",
      "Du er god til å lage løkker!\n",
      "Du er god til å lage løkker!\n",
      "Du er god til å lage løkker!\n",
      "Du er god til å lage løkker!\n",
      "Du er god til å lage løkker!\n",
      "Du er god til å lage løkker!\n",
      "Du er god til å lage løkker!\n",
      "Du er god til å lage løkker!\n",
      "Du er god til å lage løkker!\n",
      "Du er god til å lage løkker!\n",
      "Du er god til å lage løkker!\n",
      "Du er god til å lage løkker!\n",
      "Du er god til å lage løkker!\n",
      "Du er god til å lage løkker!\n",
      "Du er god til å lage løkker!\n",
      "Du er god til å lage løkker!\n",
      "Du er god til å lage løkker!\n",
      "Du er god til å lage løkker!\n",
      "Du er god til å lage løkker!\n",
      "Du er god til å lage løkker!\n",
      "Du er god til å lage løkker!\n",
      "Du er god til å lage løkker!\n",
      "Du er god til å lage løkker!\n",
      "Du er god til å lage løkker!\n",
      "Du er god til å lage løkker!\n",
      "Du er god til å lage løkker!\n",
      "Du er god til å lage løkker!\n",
      "Du er god til å lage løkker!\n",
      "Du er god til å lage løkker!\n",
      "Du er god til å lage løkker!\n",
      "Du er god til å lage løkker!\n",
      "Du er god til å lage løkker!\n",
      "Du er god til å lage løkker!\n",
      "Du er god til å lage løkker!\n",
      "Du er god til å lage løkker!\n",
      "Du er god til å lage løkker!\n",
      "Du er god til å lage løkker!\n",
      "Du er god til å lage løkker!\n",
      "Du er god til å lage løkker!\n",
      "Du er god til å lage løkker!\n",
      "Du er god til å lage løkker!\n",
      "Du er god til å lage løkker!\n",
      "Du er god til å lage løkker!\n",
      "Du er god til å lage løkker!\n",
      "Du er god til å lage løkker!\n",
      "Du er god til å lage løkker!\n",
      "Du er god til å lage løkker!\n",
      "Du er god til å lage løkker!\n",
      "Du er god til å lage løkker!\n",
      "Du er god til å lage løkker!\n",
      "Du er god til å lage løkker!\n",
      "Du er god til å lage løkker!\n",
      "Du er god til å lage løkker!\n",
      "Du er god til å lage løkker!\n",
      "Du er god til å lage løkker!\n",
      "Du er god til å lage løkker!\n",
      "Du er god til å lage løkker!\n",
      "Du er god til å lage løkker!\n",
      "Du er god til å lage løkker!\n",
      "Du er god til å lage løkker!\n",
      "Du er god til å lage løkker!\n",
      "Du er god til å lage løkker!\n",
      "Du er god til å lage løkker!\n",
      "Du er god til å lage løkker!\n",
      "Du er god til å lage løkker!\n",
      "Du er god til å lage løkker!\n",
      "Du er god til å lage løkker!\n",
      "Du er god til å lage løkker!\n",
      "Du er god til å lage løkker!\n",
      "Du er god til å lage løkker!\n",
      "Du er god til å lage løkker!\n",
      "Du er god til å lage løkker!\n",
      "Du er god til å lage løkker!\n",
      "Du er god til å lage løkker!\n",
      "Du er god til å lage løkker!\n",
      "Du er god til å lage løkker!\n",
      "Du er god til å lage løkker!\n",
      "Du er god til å lage løkker!\n",
      "Du er god til å lage løkker!\n",
      "Du er god til å lage løkker!\n",
      "Du er god til å lage løkker!\n",
      "Du er god til å lage løkker!\n",
      "Du er god til å lage løkker!\n",
      "Du er god til å lage løkker!\n",
      "Du er god til å lage løkker!\n",
      "Du er god til å lage løkker!\n",
      "Du er god til å lage løkker!\n",
      "Du er god til å lage løkker!\n",
      "Du er god til å lage løkker!\n",
      "Du er god til å lage løkker!\n",
      "Du er god til å lage løkker!\n",
      "Du er god til å lage løkker!\n",
      "Du er god til å lage løkker!\n",
      "Du er god til å lage løkker!\n",
      "Du er god til å lage løkker!\n",
      "Du er god til å lage løkker!\n",
      "Du er god til å lage løkker!\n",
      "Du er god til å lage løkker!\n",
      "Du er god til å lage løkker!\n",
      "Du er god til å lage løkker!\n",
      "Du er god til å lage løkker!\n",
      "Du er god til å lage løkker!\n",
      "Du er god til å lage løkker!\n",
      "Du er god til å lage løkker!\n",
      "Du er god til å lage løkker!\n",
      "Du er god til å lage løkker!\n",
      "Du er god til å lage løkker!\n",
      "Du er god til å lage løkker!\n",
      "Du er god til å lage løkker!\n",
      "Du er god til å lage løkker!\n",
      "Du er god til å lage løkker!\n",
      "Du er god til å lage løkker!\n",
      "Du er god til å lage løkker!\n",
      "Du er god til å lage løkker!\n",
      "Du er god til å lage løkker!\n",
      "Du er god til å lage løkker!\n",
      "Du er god til å lage løkker!\n",
      "Du er god til å lage løkker!\n",
      "Du er god til å lage løkker!\n",
      "Du er god til å lage løkker!\n",
      "Du er god til å lage løkker!\n",
      "Du er god til å lage løkker!\n",
      "Du er god til å lage løkker!\n",
      "Du er god til å lage løkker!\n",
      "Du er god til å lage løkker!\n",
      "Du er god til å lage løkker!\n",
      "Du er god til å lage løkker!\n",
      "Du er god til å lage løkker!\n",
      "Du er god til å lage løkker!\n",
      "Du er god til å lage løkker!\n",
      "Du er god til å lage løkker!\n",
      "Du er god til å lage løkker!\n",
      "Du er god til å lage løkker!\n",
      "Du er god til å lage løkker!\n",
      "Du er god til å lage løkker!\n",
      "Du er god til å lage løkker!\n",
      "Du er god til å lage løkker!\n",
      "Du er god til å lage løkker!\n",
      "Du er god til å lage løkker!\n",
      "Du er god til å lage løkker!\n",
      "Du er god til å lage løkker!\n",
      "Du er god til å lage løkker!\n",
      "Du er god til å lage løkker!\n",
      "Du er god til å lage løkker!\n",
      "Du er god til å lage løkker!\n",
      "Du er god til å lage løkker!\n",
      "Du er god til å lage løkker!\n",
      "Du er god til å lage løkker!\n",
      "Du er god til å lage løkker!\n",
      "Du er god til å lage løkker!\n",
      "Du er god til å lage løkker!\n",
      "Du er god til å lage løkker!\n",
      "Du er god til å lage løkker!\n",
      "Du er god til å lage løkker!\n",
      "Du er god til å lage løkker!\n",
      "Du er god til å lage løkker!\n",
      "Du er god til å lage løkker!\n",
      "Du er god til å lage løkker!\n",
      "Du er god til å lage løkker!\n",
      "Du er god til å lage løkker!\n",
      "Du er god til å lage løkker!\n",
      "Du er god til å lage løkker!\n",
      "Du er god til å lage løkker!\n",
      "Du er god til å lage løkker!\n",
      "Du er god til å lage løkker!\n",
      "Du er god til å lage løkker!\n",
      "Du er god til å lage løkker!\n",
      "Du er god til å lage løkker!\n",
      "Du er god til å lage løkker!\n",
      "Du er god til å lage løkker!\n",
      "Du er god til å lage løkker!\n",
      "Du er god til å lage løkker!\n",
      "Du er god til å lage løkker!\n",
      "Du er god til å lage løkker!\n",
      "Du er god til å lage løkker!\n",
      "Du er god til å lage løkker!\n",
      "Du er god til å lage løkker!\n",
      "Du er god til å lage løkker!\n",
      "Du er god til å lage løkker!\n",
      "Du er god til å lage løkker!\n",
      "Du er god til å lage løkker!\n",
      "Du er god til å lage løkker!\n",
      "Du er god til å lage løkker!\n",
      "Du er god til å lage løkker!\n",
      "Du er god til å lage løkker!\n",
      "Du er god til å lage løkker!\n",
      "Du er god til å lage løkker!\n",
      "Du er god til å lage løkker!\n",
      "Du er god til å lage løkker!\n",
      "Du er god til å lage løkker!\n",
      "Du er god til å lage løkker!\n",
      "Du er god til å lage løkker!\n",
      "Du er god til å lage løkker!\n",
      "Du er god til å lage løkker!\n",
      "Du er god til å lage løkker!\n",
      "Du er god til å lage løkker!\n",
      "Du er god til å lage løkker!\n",
      "Du er god til å lage løkker!\n",
      "Du er god til å lage løkker!\n",
      "Du er god til å lage løkker!\n",
      "Du er god til å lage løkker!\n",
      "Du er god til å lage løkker!\n",
      "Du er god til å lage løkker!\n",
      "Du er god til å lage løkker!\n",
      "Du er god til å lage løkker!\n",
      "Du er god til å lage løkker!\n",
      "Du er god til å lage løkker!\n",
      "Du er god til å lage løkker!\n",
      "Du er god til å lage løkker!\n",
      "Du er god til å lage løkker!\n",
      "Du er god til å lage løkker!\n",
      "Du er god til å lage løkker!\n",
      "Du er god til å lage løkker!\n",
      "Du er god til å lage løkker!\n",
      "Du er god til å lage løkker!\n",
      "Du er god til å lage løkker!\n",
      "Du er god til å lage løkker!\n",
      "Du er god til å lage løkker!\n",
      "Du er god til å lage løkker!\n",
      "Du er god til å lage løkker!\n",
      "Du er god til å lage løkker!\n",
      "Du er god til å lage løkker!\n",
      "Du er god til å lage løkker!\n",
      "Du er god til å lage løkker!\n",
      "Du er god til å lage løkker!\n",
      "Du er god til å lage løkker!\n",
      "Du er god til å lage løkker!\n"
     ]
    }
   ],
   "source": [
    "for i in range(0, 1000):\n",
    "    print(\"Du er god til å lage løkker!\")"
   ]
  },
  {
   "cell_type": "markdown",
   "metadata": {},
   "source": [
    "### Oppgave 15"
   ]
  },
  {
   "cell_type": "code",
   "execution_count": 21,
   "metadata": {
    "tags": [
     "output_scroll"
    ]
   },
   "outputs": [
    {
     "name": "stdout",
     "output_type": "stream",
     "text": [
      "0\n",
      "2\n",
      "4\n",
      "6\n",
      "8\n",
      "10\n",
      "12\n",
      "14\n",
      "16\n",
      "18\n",
      "20\n",
      "22\n",
      "24\n",
      "26\n",
      "28\n",
      "30\n",
      "32\n",
      "34\n",
      "36\n",
      "38\n",
      "40\n",
      "42\n",
      "44\n",
      "46\n",
      "48\n",
      "50\n",
      "52\n",
      "54\n",
      "56\n",
      "58\n",
      "60\n",
      "62\n",
      "64\n",
      "66\n",
      "68\n",
      "70\n",
      "72\n",
      "74\n",
      "76\n",
      "78\n",
      "80\n",
      "82\n",
      "84\n",
      "86\n",
      "88\n",
      "90\n",
      "92\n",
      "94\n",
      "96\n",
      "98\n",
      "100\n",
      "0\n",
      "2\n",
      "4\n",
      "6\n",
      "8\n",
      "10\n",
      "12\n",
      "14\n",
      "16\n",
      "18\n",
      "20\n",
      "22\n",
      "24\n",
      "26\n",
      "28\n",
      "30\n",
      "32\n",
      "34\n",
      "36\n",
      "38\n",
      "40\n",
      "42\n",
      "44\n",
      "46\n",
      "48\n",
      "50\n",
      "52\n",
      "54\n",
      "56\n",
      "58\n",
      "60\n",
      "62\n",
      "64\n",
      "66\n",
      "68\n",
      "70\n",
      "72\n",
      "74\n",
      "76\n",
      "78\n",
      "80\n",
      "82\n",
      "84\n",
      "86\n",
      "88\n",
      "90\n",
      "92\n",
      "94\n",
      "96\n",
      "98\n",
      "100\n"
     ]
    }
   ],
   "source": [
    "# While-løkke:\n",
    "tall = 0\n",
    "while tall < 101:\n",
    "    print(tall)\n",
    "    tall = tall + 2\n",
    "\n",
    "# For-løkke\n",
    "for i in range(0, 101, 2):\n",
    "    print(i)"
   ]
  },
  {
   "cell_type": "markdown",
   "metadata": {},
   "source": [
    "### Oppgave 16"
   ]
  },
  {
   "cell_type": "code",
   "execution_count": 22,
   "metadata": {
    "tags": [
     "output_scroll"
    ]
   },
   "outputs": [
    {
     "name": "stdout",
     "output_type": "stream",
     "text": [
      "1\n",
      "3\n",
      "5\n",
      "7\n",
      "9\n",
      "11\n",
      "13\n",
      "15\n",
      "17\n",
      "19\n",
      "21\n",
      "23\n",
      "25\n",
      "27\n",
      "29\n",
      "31\n",
      "33\n",
      "35\n",
      "37\n",
      "39\n",
      "41\n",
      "43\n",
      "45\n",
      "47\n",
      "49\n",
      "51\n",
      "53\n",
      "55\n",
      "57\n",
      "59\n",
      "61\n",
      "63\n",
      "65\n",
      "67\n",
      "69\n",
      "71\n",
      "73\n",
      "75\n",
      "77\n",
      "79\n",
      "81\n",
      "83\n",
      "85\n",
      "87\n",
      "89\n",
      "91\n",
      "93\n",
      "95\n",
      "97\n",
      "99\n",
      "[1, 3, 5, 7, 9, 11, 13, 15, 17, 19, 21, 23, 25, 27, 29, 31, 33, 35, 37, 39, 41, 43, 45, 47, 49, 51, 53, 55, 57, 59, 61, 63, 65, 67, 69, 71, 73, 75, 77, 79, 81, 83, 85, 87, 89, 91, 93, 95, 97, 99]\n"
     ]
    }
   ],
   "source": [
    "oddetall = []\n",
    "for i in range(1, 100, 2):\n",
    "    print(i)\n",
    "    oddetall.append(i)\n",
    "    \n",
    "print(oddetall)"
   ]
  },
  {
   "cell_type": "markdown",
   "metadata": {},
   "source": [
    "### Oppgave 17"
   ]
  },
  {
   "cell_type": "code",
   "execution_count": 23,
   "metadata": {},
   "outputs": [
    {
     "name": "stdout",
     "output_type": "stream",
     "text": [
      "Summen av de første 999 tallene er 499500\n"
     ]
    }
   ],
   "source": [
    "summen = 0\n",
    "for i in range(0, 1000):\n",
    "    summen = summen + i\n",
    "    \n",
    "print(\"Summen av de første 999 tallene er\", summen)"
   ]
  },
  {
   "cell_type": "markdown",
   "metadata": {},
   "source": [
    "### Oppgave 18"
   ]
  },
  {
   "cell_type": "code",
   "execution_count": 26,
   "metadata": {
    "tags": [
     "output_scroll"
    ]
   },
   "outputs": [
    {
     "name": "stdout",
     "output_type": "stream",
     "text": [
      "1\n",
      "4\n",
      "9\n",
      "16\n",
      "25\n",
      "36\n",
      "49\n",
      "64\n",
      "81\n",
      "100\n",
      "121\n",
      "144\n",
      "169\n",
      "196\n",
      "225\n",
      "256\n",
      "289\n",
      "324\n",
      "361\n",
      "400\n",
      "441\n",
      "484\n",
      "529\n",
      "576\n",
      "625\n",
      "676\n",
      "729\n",
      "784\n",
      "841\n",
      "900\n",
      "961\n",
      "1024\n",
      "1089\n",
      "1156\n",
      "1225\n",
      "1296\n",
      "1369\n",
      "1444\n",
      "1521\n",
      "1600\n",
      "1681\n",
      "1764\n",
      "1849\n",
      "1936\n",
      "2025\n",
      "2116\n",
      "2209\n",
      "2304\n",
      "2401\n",
      "2500\n",
      "2601\n",
      "2704\n",
      "2809\n",
      "2916\n",
      "3025\n",
      "3136\n",
      "3249\n",
      "3364\n",
      "3481\n",
      "3600\n",
      "3721\n",
      "3844\n",
      "3969\n",
      "4096\n",
      "4225\n",
      "4356\n",
      "4489\n",
      "4624\n",
      "4761\n",
      "4900\n",
      "5041\n",
      "5184\n",
      "5329\n",
      "5476\n",
      "5625\n",
      "5776\n",
      "5929\n",
      "6084\n",
      "6241\n",
      "6400\n",
      "6561\n",
      "6724\n",
      "6889\n",
      "7056\n",
      "7225\n",
      "7396\n",
      "7569\n",
      "7744\n",
      "7921\n",
      "8100\n",
      "8281\n",
      "8464\n",
      "8649\n",
      "8836\n",
      "9025\n",
      "9216\n",
      "9409\n",
      "9604\n",
      "9801\n",
      "10000\n"
     ]
    }
   ],
   "source": [
    "for i in range(1, 101):\n",
    "    print(i**2)"
   ]
  },
  {
   "cell_type": "markdown",
   "metadata": {},
   "source": [
    "### Oppgave 19"
   ]
  },
  {
   "cell_type": "code",
   "execution_count": 27,
   "metadata": {},
   "outputs": [
    {
     "name": "stdout",
     "output_type": "stream",
     "text": [
      "Summen av de første 100 tall i følgen er 19900\n"
     ]
    }
   ],
   "source": [
    "summen = 0\n",
    "tall = 1\n",
    "for i in range(0, 100):\n",
    "    summen += tall\n",
    "    tall = tall + 4\n",
    "\n",
    "print(\"Summen av de første 100 tall i følgen er\", summen)"
   ]
  },
  {
   "cell_type": "markdown",
   "metadata": {},
   "source": [
    "### Oppgave 20"
   ]
  },
  {
   "cell_type": "code",
   "execution_count": 3,
   "metadata": {},
   "outputs": [
    {
     "name": "stdin",
     "output_type": "stream",
     "text": [
      "Tast inn startbeløp:  100\n",
      "Tast inn antall tidsenheter:  300\n",
      "Tast inn rente i prosent:  1.25\n"
     ]
    },
    {
     "name": "stdout",
     "output_type": "stream",
     "text": [
      "Saldo etter 300 tidsenheter, er 4154.41201880097\n"
     ]
    }
   ],
   "source": [
    "start = float(input(\"Tast inn startbeløp: \"))\n",
    "tid = int(input(\"Tast inn antall tidsenheter: \"))\n",
    "rente = float(input(\"Tast inn rente i prosent: \"))\n",
    "rente = rente/100\n",
    "\n",
    "saldo = start\n",
    "\n",
    "for i in range(0, tid):\n",
    "    saldo = saldo + saldo*rente\n",
    "\n",
    "print(\"Saldo etter\", tid, \"tidsenheter, er\", saldo)"
   ]
  },
  {
   "cell_type": "markdown",
   "metadata": {
    "jupyter": {
     "outputs_hidden": true
    }
   },
   "source": [
    "### Oppgave 21"
   ]
  },
  {
   "cell_type": "code",
   "execution_count": 5,
   "metadata": {},
   "outputs": [
    {
     "name": "stdin",
     "output_type": "stream",
     "text": [
      "Tast antall harer ved tid=0:  100\n"
     ]
    },
    {
     "name": "stdout",
     "output_type": "stream",
     "text": [
      "Utvikling: [110.00000000000001, 121.00000000000003, 133.10000000000005, 146.41000000000008, 161.0510000000001, 177.15610000000012, 194.87171000000015, 214.3588810000002, 235.79476910000022, 259.37424601000026]\n"
     ]
    }
   ],
   "source": [
    "N0 = int(input(\"Tast antall harer ved tid=0: \"))\n",
    "N = N0\n",
    "k = 1.1\n",
    "utvikling = []\n",
    "\n",
    "for i in range(0, 10):\n",
    "    N = N * k\n",
    "    utvikling.append(N)\n",
    "print(\"Utvikling:\", utvikling)"
   ]
  },
  {
   "cell_type": "markdown",
   "metadata": {},
   "source": [
    "### Oppgave 22"
   ]
  },
  {
   "cell_type": "code",
   "execution_count": 18,
   "metadata": {},
   "outputs": [
    {
     "name": "stdin",
     "output_type": "stream",
     "text": [
      "Tast antall harer ved tid=0:  100\n",
      "Tast inn bæreevne i antall harer:  200\n"
     ]
    },
    {
     "name": "stdout",
     "output_type": "stream",
     "text": [
      "Utvikling: [105.0, 109.98750000000001, 114.93762492187501, 119.8260586027217, 124.62952230286243, 129.32621561842882, 133.89620215717954, 138.32172589683935, 142.5874485589831, 146.6806031716011]\n"
     ]
    }
   ],
   "source": [
    "N0 = int(input(\"Tast antall harer ved tid=0: \"))\n",
    "B = int(input(\"Tast inn bæreevne i antall harer: \"))\n",
    "N = N0\n",
    "k = 1.1\n",
    "utvikling = []\n",
    "\n",
    "for i in range(0, 10):\n",
    "    N = N + (k-1)*N*(B-N)/B \n",
    "    utvikling.append(N)\n",
    "print(\"Utvikling:\", utvikling)"
   ]
  },
  {
   "cell_type": "markdown",
   "metadata": {},
   "source": [
    "### Oppgave 23"
   ]
  },
  {
   "cell_type": "code",
   "execution_count": 17,
   "metadata": {},
   "outputs": [
    {
     "name": "stdin",
     "output_type": "stream",
     "text": [
      "Tast tall som skal primtallsfaktoriseres:  465\n"
     ]
    },
    {
     "name": "stdout",
     "output_type": "stream",
     "text": [
      "Primfaktorer: [3, 5, 31]\n"
     ]
    }
   ],
   "source": [
    "tall = int(input(\"Tast tall som skal primtallsfaktoriseres: \"))\n",
    "faktorer = []\n",
    "\n",
    "while tall > 1:\n",
    "    while tall % i == 0:\n",
    "        if i != 1:\n",
    "            faktorer.append(i)\n",
    "            tall = tall/i\n",
    "            i = 2\n",
    "    i = i + 1\n",
    "\n",
    "print(\"Primfaktorer:\", faktorer)"
   ]
  },
  {
   "cell_type": "markdown",
   "metadata": {},
   "source": [
    "### Oppgave 24\n",
    "\n",
    "_Kommer_"
   ]
  },
  {
   "cell_type": "markdown",
   "metadata": {},
   "source": [
    "### Oppgave 25\n",
    "\n",
    "_Kommer_"
   ]
  },
  {
   "cell_type": "markdown",
   "metadata": {},
   "source": [
    "## Funksjoner"
   ]
  },
  {
   "cell_type": "markdown",
   "metadata": {},
   "source": [
    "### Oppgave 26"
   ]
  },
  {
   "cell_type": "code",
   "execution_count": 19,
   "metadata": {},
   "outputs": [],
   "source": [
    "def hei(navn):\n",
    "    print(\"Hei,\", navn)"
   ]
  },
  {
   "cell_type": "markdown",
   "metadata": {},
   "source": [
    "### Oppgave 27"
   ]
  },
  {
   "cell_type": "code",
   "execution_count": 20,
   "metadata": {},
   "outputs": [
    {
     "name": "stdout",
     "output_type": "stream",
     "text": [
      "2\n",
      "7\n",
      "16\n"
     ]
    }
   ],
   "source": [
    "def f(x):\n",
    "    return 2*x**2 - x + 1\n",
    "\n",
    "print(f(1))\n",
    "print(f(2))\n",
    "print(f(3))"
   ]
  },
  {
   "cell_type": "markdown",
   "metadata": {},
   "source": [
    "### Oppgave 28"
   ]
  },
  {
   "cell_type": "code",
   "execution_count": 22,
   "metadata": {},
   "outputs": [
    {
     "name": "stdin",
     "output_type": "stream",
     "text": [
      "Tast radius:  4\n"
     ]
    },
    {
     "name": "stdout",
     "output_type": "stream",
     "text": [
      "Arealet av sirkelen er 50.26548245743669\n"
     ]
    }
   ],
   "source": [
    "from numpy import pi\n",
    "\n",
    "def areal(r):\n",
    "    return pi*r**2\n",
    "\n",
    "radius = float(input(\"Tast radius: \"))\n",
    "print(\"Arealet av sirkelen er\", areal(radius))"
   ]
  },
  {
   "cell_type": "markdown",
   "metadata": {},
   "source": [
    "### Oppgave 29"
   ]
  },
  {
   "cell_type": "code",
   "execution_count": 24,
   "metadata": {},
   "outputs": [
    {
     "name": "stdin",
     "output_type": "stream",
     "text": [
      "Tast inn omkrest:  56\n"
     ]
    },
    {
     "name": "stdout",
     "output_type": "stream",
     "text": [
      "Radius i sirkelen er 8.91267681314614\n"
     ]
    }
   ],
   "source": [
    "from numpy import pi\n",
    "\n",
    "def radius_sirkel(A):\n",
    "    return A/pi/2\n",
    "\n",
    "areal = float(input(\"Tast inn omkrest: \"))\n",
    "print(\"Radius i sirkelen er\", radius_sirkel(areal))"
   ]
  },
  {
   "cell_type": "markdown",
   "metadata": {},
   "source": [
    "### Oppgave 30"
   ]
  },
  {
   "cell_type": "code",
   "execution_count": 25,
   "metadata": {},
   "outputs": [
    {
     "name": "stdout",
     "output_type": "stream",
     "text": [
      "-2\n",
      "-3\n",
      "-2\n",
      "7\n",
      "30\n",
      "73\n",
      "142\n",
      "243\n",
      "382\n",
      "565\n",
      "798\n",
      "1087\n",
      "1438\n",
      "1857\n",
      "2350\n",
      "2923\n",
      "3582\n",
      "4333\n",
      "5182\n",
      "6135\n",
      "7198\n"
     ]
    }
   ],
   "source": [
    "def f(x):\n",
    "    return x**3 - 2*x**2 - 2\n",
    "\n",
    "for i in range(0, 21):\n",
    "    print(f(i))"
   ]
  },
  {
   "cell_type": "markdown",
   "metadata": {},
   "source": [
    "### Oppgave 31\n",
    "\n",
    "Når vi definerer funksjonen lager vi den koden som bestemmer hva funksjonen skal gjøre. Når vi kaller på en funksjon ber vi Python om å faktisk kjøre koden i funksjonen. Vi burde definitivt _kalle på_ funksjonen inne i løkka. Om vi definerer den inne i løkka ender vi bare med å definere den mange ganger. Koden under blir derfor litt underlig:"
   ]
  },
  {
   "cell_type": "code",
   "execution_count": 29,
   "metadata": {},
   "outputs": [],
   "source": [
    "for i in range(0, 21):\n",
    "    def f(x):\n",
    "        return x**3 - 2*x**2 - 2"
   ]
  },
  {
   "cell_type": "markdown",
   "metadata": {},
   "source": [
    "### Oppgave 32"
   ]
  },
  {
   "cell_type": "code",
   "execution_count": 30,
   "metadata": {
    "scrolled": true
   },
   "outputs": [
    {
     "name": "stdout",
     "output_type": "stream",
     "text": [
      "x    f(x)\n",
      "0     -1\n",
      "1     -1\n",
      "2     -3\n",
      "3     -7\n",
      "4     -13\n",
      "5     -21\n",
      "6     -31\n",
      "7     -43\n",
      "8     -57\n",
      "9     -73\n"
     ]
    }
   ],
   "source": [
    "def f(x):\n",
    "    return x**2 - 2*x**2 + x - 1\n",
    "\n",
    "print(\"x    f(x)\")\n",
    "for i in range(0, 10):\n",
    "    print(i, \"   \", f(i))"
   ]
  },
  {
   "cell_type": "markdown",
   "metadata": {},
   "source": [
    "### Oppgave 33\n",
    "\n",
    "_Kommer_"
   ]
  },
  {
   "cell_type": "markdown",
   "metadata": {},
   "source": [
    "### Oppgave 34\n",
    "\n",
    "_Kommer_"
   ]
  },
  {
   "cell_type": "markdown",
   "metadata": {},
   "source": [
    "### Oppgave 35\n",
    "\n",
    "a)"
   ]
  },
  {
   "cell_type": "code",
   "execution_count": 32,
   "metadata": {},
   "outputs": [],
   "source": [
    "def minste_faktor(tall):\n",
    "    teller = 2\n",
    "    while tall % teller != 0:\n",
    "        teller += 1\n",
    "    return teller"
   ]
  },
  {
   "cell_type": "markdown",
   "metadata": {},
   "source": [
    "b)"
   ]
  },
  {
   "cell_type": "code",
   "execution_count": 33,
   "metadata": {},
   "outputs": [],
   "source": [
    "def primtallsfaktorer(tall):\n",
    "    faktorer = []\n",
    "    while tall > 1:\n",
    "        faktorer.append(minste_faktor(tall))\n",
    "        tall = tall/faktorer[-1]\n",
    "    return faktorer\n",
    "        "
   ]
  },
  {
   "cell_type": "code",
   "execution_count": null,
   "metadata": {},
   "outputs": [],
   "source": []
  }
 ],
 "metadata": {
  "kernelspec": {
   "display_name": "Python 3",
   "language": "python",
   "name": "python3"
  },
  "language_info": {
   "codemirror_mode": {
    "name": "ipython",
    "version": 3
   },
   "file_extension": ".py",
   "mimetype": "text/x-python",
   "name": "python",
   "nbconvert_exporter": "python",
   "pygments_lexer": "ipython3",
   "version": "3.8.2"
  }
 },
 "nbformat": 4,
 "nbformat_minor": 4
}
