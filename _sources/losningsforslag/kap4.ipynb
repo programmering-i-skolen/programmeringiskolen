{
 "cells": [
  {
   "cell_type": "markdown",
   "metadata": {},
   "source": [
    "# 4. Datastrukturer\n",
    "---\n",
    "## Underveisoppgaver\n",
    "\n",
    "### Underveisoppgave 4.1 \n",
    "Vi kjører koden og ser hva output blir:"
   ]
  },
  {
   "cell_type": "code",
   "execution_count": 7,
   "metadata": {},
   "outputs": [
    {
     "name": "stdout",
     "output_type": "stream",
     "text": [
      "4 [85 93  1] 1 [ 1  4  4 85]\n"
     ]
    }
   ],
   "source": [
    "import numpy as np\n",
    "tall = np.array([1, 4, 4, 85, 93, 1])\n",
    "print(tall[2], tall[3:], tall[-1], tall[:4])"
   ]
  },
  {
   "cell_type": "markdown",
   "metadata": {},
   "source": [
    "### Underveisoppgave 4.2 \n",
    "Det kan være fint å finne oppgaver om skalarprodukt, siden det er enkelt å kontrollere for hånd. Så kan en se på  om vektorer står ortogonalt og til slutt oppgaver med vinkel mellom vektorer. "
   ]
  },
  {
   "cell_type": "markdown",
   "metadata": {},
   "source": [
    "### Underveisoppgave 4.3 "
   ]
  },
  {
   "cell_type": "code",
   "execution_count": 14,
   "metadata": {},
   "outputs": [
    {
     "name": "stdout",
     "output_type": "stream",
     "text": [
      "Det tok 63.287973403930664 ms\n"
     ]
    }
   ],
   "source": [
    "import numpy as np\n",
    "import time\n",
    "a = np.linspace(0, 10, 100000) \n",
    "b = np.linspace(2, 12, 100000) \n",
    "c = np.zeros(100000)\n",
    "t0 = time.time()\n",
    "for i in range(len(a)):\n",
    "    c[i] = a[i] * b[i]\n",
    "t1 = time.time()\n",
    "print(\"Det tok\", (t1-t0)*1000, \"ms\")"
   ]
  },
  {
   "cell_type": "markdown",
   "metadata": {},
   "source": [
    "Så bruker vi den vektoriserte `*`-operasjonen, som betyr elementvis multiplikasjon. "
   ]
  },
  {
   "cell_type": "code",
   "execution_count": 15,
   "metadata": {},
   "outputs": [
    {
     "name": "stdout",
     "output_type": "stream",
     "text": [
      "Det tok 0.2779960632324219 ms\n"
     ]
    }
   ],
   "source": [
    "import numpy as np\n",
    "import time\n",
    "a = np.linspace(0, 10, 100000) \n",
    "b = np.linspace(2, 12, 100000) \n",
    "c = np.zeros(100000)\n",
    "t0 = time.time()\n",
    "c = a*b\n",
    "t1 = time.time()\n",
    "print(\"Det tok\", (t1-t0)*1000, \"ms\")"
   ]
  },
  {
   "cell_type": "markdown",
   "metadata": {},
   "source": [
    "Det gikk mye raskere!"
   ]
  },
  {
   "cell_type": "markdown",
   "metadata": {},
   "source": [
    "### Underveisoppgave 4.4\n",
    "\n",
    "**Erratum:**  \n",
    "Første setning i oppgaven skal lyde:\n",
    "> Sett sammen de fire kodesnuttene over og kjør koden."
   ]
  },
  {
   "cell_type": "code",
   "execution_count": 21,
   "metadata": {},
   "outputs": [],
   "source": [
    "import numpy as np \n",
    "N = 100\n",
    "r = np.zeros((N,2)) \n",
    "t = np.zeros(N)\n",
    "\n",
    "v0 = np.array([4, 7])\n",
    "a = np.array([0, -9.81]) \n",
    "for i in range(N):\n",
    "    for j in range(2):\n",
    "        r[i,j] = v0[j]*t[i] + 0.5*a[j]*t[i]**2\n",
    "\n",
    "r[:,0] = 4*t\n",
    "r[:,1] = 7*t - 9.81*t**2"
   ]
  },
  {
   "cell_type": "code",
   "execution_count": 22,
   "metadata": {},
   "outputs": [
    {
     "name": "stdout",
     "output_type": "stream",
     "text": [
      "0.0\n"
     ]
    }
   ],
   "source": [
    "print(r[0,0])"
   ]
  },
  {
   "cell_type": "code",
   "execution_count": 23,
   "metadata": {},
   "outputs": [
    {
     "name": "stdout",
     "output_type": "stream",
     "text": [
      "0.0\n"
     ]
    }
   ],
   "source": [
    "print(r[1,1])"
   ]
  },
  {
   "cell_type": "code",
   "execution_count": 24,
   "metadata": {},
   "outputs": [
    {
     "name": "stdout",
     "output_type": "stream",
     "text": [
      "[0. 0.]\n"
     ]
    }
   ],
   "source": [
    "print(r[0,:]) "
   ]
  },
  {
   "cell_type": "code",
   "execution_count": 25,
   "metadata": {},
   "outputs": [
    {
     "name": "stdout",
     "output_type": "stream",
     "text": [
      "[0. 0. 0. 0. 0. 0. 0. 0. 0. 0. 0. 0. 0. 0. 0. 0. 0. 0. 0. 0. 0. 0. 0. 0.\n",
      " 0. 0. 0. 0. 0. 0. 0. 0. 0. 0. 0. 0. 0. 0. 0. 0. 0. 0. 0. 0. 0. 0. 0. 0.\n",
      " 0. 0. 0. 0. 0. 0. 0. 0. 0. 0. 0. 0. 0. 0. 0. 0. 0. 0. 0. 0. 0. 0. 0. 0.\n",
      " 0. 0. 0. 0. 0. 0. 0. 0. 0. 0. 0. 0. 0. 0. 0. 0. 0. 0. 0. 0. 0. 0. 0. 0.\n",
      " 0. 0. 0. 0.]\n"
     ]
    }
   ],
   "source": [
    "print(r[:,0]) "
   ]
  },
  {
   "cell_type": "code",
   "execution_count": 26,
   "metadata": {},
   "outputs": [
    {
     "name": "stdout",
     "output_type": "stream",
     "text": [
      "[0. 0.]\n"
     ]
    }
   ],
   "source": [
    "print(r[1,:]) "
   ]
  },
  {
   "cell_type": "code",
   "execution_count": 28,
   "metadata": {},
   "outputs": [
    {
     "name": "stdout",
     "output_type": "stream",
     "text": [
      "[0. 0. 0. 0. 0. 0. 0. 0. 0. 0. 0. 0. 0. 0. 0. 0. 0. 0. 0. 0. 0. 0. 0. 0.\n",
      " 0. 0. 0. 0. 0. 0. 0. 0. 0. 0. 0. 0. 0. 0. 0. 0. 0. 0. 0. 0. 0. 0. 0. 0.\n",
      " 0. 0. 0. 0. 0. 0. 0. 0. 0. 0. 0. 0. 0. 0. 0. 0. 0. 0. 0. 0. 0. 0. 0. 0.\n",
      " 0. 0. 0. 0. 0. 0. 0. 0. 0. 0. 0. 0. 0. 0. 0. 0. 0. 0. 0. 0. 0. 0. 0. 0.\n",
      " 0. 0. 0. 0.]\n"
     ]
    }
   ],
   "source": [
    "print(r[:,1])"
   ]
  },
  {
   "cell_type": "markdown",
   "metadata": {},
   "source": [
    "### Underveisoppgave 4.5 \n",
    "1) "
   ]
  },
  {
   "cell_type": "code",
   "execution_count": 40,
   "metadata": {},
   "outputs": [],
   "source": [
    "atom_masse = {\"H\": 1.008, \"He\": 4.003, \"Li\": 6.940, \"Be\": 9.012}"
   ]
  },
  {
   "cell_type": "markdown",
   "metadata": {},
   "source": [
    "2)"
   ]
  },
  {
   "cell_type": "code",
   "execution_count": 32,
   "metadata": {},
   "outputs": [],
   "source": [
    "atom_masse = {\n",
    "            \"H\": 1.008, \"He\": 4.003, \n",
    "            \"Li\": 6.940, \"Be\": 9.012\n",
    "            }"
   ]
  },
  {
   "cell_type": "markdown",
   "metadata": {},
   "source": [
    "3)"
   ]
  },
  {
   "cell_type": "code",
   "execution_count": 38,
   "metadata": {},
   "outputs": [],
   "source": [
    "atom_masse = {\"H\": 1.008, \n",
    "              \"He\": 4.003, \n",
    "              \"Li\": 6.940, \n",
    "              \"Be\": 9.012\n",
    "             }"
   ]
  },
  {
   "cell_type": "markdown",
   "metadata": {},
   "source": [
    "4)"
   ]
  },
  {
   "cell_type": "code",
   "execution_count": 37,
   "metadata": {},
   "outputs": [],
   "source": [
    "atom_masse = {  \"H\": 1.008\n",
    "              , \"He\": 4.003\n",
    "              , \"Li\": 6.940\n",
    "              , \"Be\": 9.012\n",
    "             }"
   ]
  },
  {
   "cell_type": "markdown",
   "metadata": {},
   "source": [
    "5)"
   ]
  },
  {
   "cell_type": "code",
   "execution_count": 41,
   "metadata": {},
   "outputs": [],
   "source": [
    "atom_masse = {\"H\": 1.008, \n",
    "              \"He\": 4.003, \n",
    "              \"Li\": 6.940, \n",
    "              \"Be\": 9.012}"
   ]
  },
  {
   "cell_type": "markdown",
   "metadata": {},
   "source": [
    "---\n",
    "## Arrayer"
   ]
  },
  {
   "cell_type": "markdown",
   "metadata": {},
   "source": [
    "### Oppgave 1"
   ]
  },
  {
   "cell_type": "code",
   "execution_count": 1,
   "metadata": {},
   "outputs": [
    {
     "name": "stdout",
     "output_type": "stream",
     "text": [
      "[10 10 10]\n"
     ]
    }
   ],
   "source": [
    "import numpy as np\n",
    "\n",
    "a1 = np.array([1, 2, 3])\n",
    "a2 = np.array([9, 8, 7])\n",
    "a3 = a1 + a2\n",
    "\n",
    "print(a3)"
   ]
  },
  {
   "cell_type": "markdown",
   "metadata": {},
   "source": [
    "### Oppgave 2"
   ]
  },
  {
   "cell_type": "code",
   "execution_count": 2,
   "metadata": {},
   "outputs": [
    {
     "name": "stdout",
     "output_type": "stream",
     "text": [
      "[ 9 16 21]\n"
     ]
    }
   ],
   "source": [
    "import numpy as np\n",
    "\n",
    "a1 = np.array([1, 2, 3])\n",
    "a2 = np.array([9, 8, 7])\n",
    "a3 = a1 * a2\n",
    "\n",
    "print(a3)"
   ]
  },
  {
   "cell_type": "markdown",
   "metadata": {},
   "source": [
    "### Oppgave 3\n",
    "La oss prøve å kjøre programmet"
   ]
  },
  {
   "cell_type": "code",
   "execution_count": 1,
   "metadata": {},
   "outputs": [
    {
     "ename": "NameError",
     "evalue": "name 'np' is not defined",
     "output_type": "error",
     "traceback": [
      "\u001b[0;31m---------------------------------------------------------------------------\u001b[0m",
      "\u001b[0;31mNameError\u001b[0m                                 Traceback (most recent call last)",
      "\u001b[0;32m<ipython-input-1-ca400701c8ef>\u001b[0m in \u001b[0;36m<module>\u001b[0;34m\u001b[0m\n\u001b[1;32m      1\u001b[0m \u001b[0;32mfrom\u001b[0m \u001b[0mmatplotlib\u001b[0m\u001b[0;34m.\u001b[0m\u001b[0mpylab\u001b[0m \u001b[0;32mimport\u001b[0m \u001b[0mplt\u001b[0m\u001b[0;34m\u001b[0m\u001b[0;34m\u001b[0m\u001b[0m\n\u001b[1;32m      2\u001b[0m \u001b[0;32mfrom\u001b[0m \u001b[0mnumpy\u001b[0m \u001b[0;32mimport\u001b[0m \u001b[0;34m*\u001b[0m\u001b[0;34m\u001b[0m\u001b[0;34m\u001b[0m\u001b[0m\n\u001b[0;32m----> 3\u001b[0;31m \u001b[0mx\u001b[0m \u001b[0;34m=\u001b[0m \u001b[0mnp\u001b[0m\u001b[0;34m.\u001b[0m\u001b[0mlinspace\u001b[0m\u001b[0;34m(\u001b[0m\u001b[0;36m0\u001b[0m\u001b[0;34m,\u001b[0m \u001b[0;36m2\u001b[0m\u001b[0;34m,\u001b[0m \u001b[0;36m100\u001b[0m\u001b[0;34m)\u001b[0m\u001b[0;34m\u001b[0m\u001b[0;34m\u001b[0m\u001b[0m\n\u001b[0m\u001b[1;32m      4\u001b[0m \u001b[0my\u001b[0m \u001b[0;34m=\u001b[0m \u001b[0mnp\u001b[0m\u001b[0;34m.\u001b[0m\u001b[0msqrt\u001b[0m\u001b[0;34m(\u001b[0m\u001b[0mx\u001b[0m\u001b[0;34m)\u001b[0m\u001b[0;34m\u001b[0m\u001b[0;34m\u001b[0m\u001b[0m\n\u001b[1;32m      5\u001b[0m \u001b[0mplt\u001b[0m\u001b[0;34m.\u001b[0m\u001b[0mplot\u001b[0m\u001b[0;34m(\u001b[0m\u001b[0mx\u001b[0m\u001b[0;34m,\u001b[0m \u001b[0my\u001b[0m\u001b[0;34m)\u001b[0m\u001b[0;34m\u001b[0m\u001b[0;34m\u001b[0m\u001b[0m\n",
      "\u001b[0;31mNameError\u001b[0m: name 'np' is not defined"
     ]
    }
   ],
   "source": [
    "from matplotlib.pylab import plt \n",
    "from numpy import *\n",
    "x = np.linspace(0, 2, 100)\n",
    "y = np.sqrt(x)\n",
    "plt.plot(x, y) \n",
    "plt.show()"
   ]
  },
  {
   "cell_type": "markdown",
   "metadata": {},
   "source": [
    "Første gang vi kjører programmet får vi en feilmelding som handler om at `np` ikke er definert. Det er fordi vi har importert alle funksjonene fra numpy med `*`. La oss derfor bytte til `import numpy as np`, da fungerer programmet fint. "
   ]
  },
  {
   "cell_type": "code",
   "execution_count": 2,
   "metadata": {},
   "outputs": [
    {
     "data": {
      "image/png": "[encoded data removed]",
      "text/plain": [
       "<Figure size 432x288 with 1 Axes>"
      ]
     },
     "metadata": {
      "needs_background": "light"
     },
     "output_type": "display_data"
    }
   ],
   "source": [
    "from matplotlib.pylab import plt \n",
    "import numpy as np\n",
    "x = np.linspace(0, 2, 100)\n",
    "y = np.sqrt(x)\n",
    "plt.plot(x, y) \n",
    "plt.show()"
   ]
  },
  {
   "cell_type": "markdown",
   "metadata": {},
   "source": [
    "### Oppgave 4"
   ]
  },
  {
   "cell_type": "code",
   "execution_count": 3,
   "metadata": {},
   "outputs": [
    {
     "name": "stdout",
     "output_type": "stream",
     "text": [
      "[  9  18  27  36  45  54  63  72  81  90  99 108 117 126 135 144 153 162\n",
      " 171 180 189 198 207 216 225 234 243 252 261 270 279 288 297 306 315 324\n",
      " 333 342 351 360 369 378 387 396 405 414 423 432 441 450 459 468 477 486\n",
      " 495 504 513 522 531 540 549 558 567 576 585 594 603 612 621 630 639 648\n",
      " 657 666 675 684 693 702 711 720 729 738 747 756 765 774 783 792 801 810\n",
      " 819 828 837 846 855 864 873 882 891 900 909 918 927 936 945 954 963 972\n",
      " 981 990 999]\n"
     ]
    }
   ],
   "source": [
    "import numpy as np\n",
    "\n",
    "nigangen = np.array(range(9, 1001, 9))\n",
    "print(nigangen)"
   ]
  },
  {
   "cell_type": "markdown",
   "metadata": {},
   "source": [
    "### Oppgave 5"
   ]
  },
  {
   "cell_type": "code",
   "execution_count": 4,
   "metadata": {},
   "outputs": [
    {
     "name": "stdout",
     "output_type": "stream",
     "text": [
      "[1.000e+00 4.000e+00 9.000e+00 1.600e+01 2.500e+01 3.600e+01 4.900e+01\n",
      " 6.400e+01 8.100e+01 1.000e+02 1.210e+02 1.440e+02 1.690e+02 1.960e+02\n",
      " 2.250e+02 2.560e+02 2.890e+02 3.240e+02 3.610e+02 4.000e+02 4.410e+02\n",
      " 4.840e+02 5.290e+02 5.760e+02 6.250e+02 6.760e+02 7.290e+02 7.840e+02\n",
      " 8.410e+02 9.000e+02 9.610e+02 1.024e+03 1.089e+03 1.156e+03 1.225e+03\n",
      " 1.296e+03 1.369e+03 1.444e+03 1.521e+03 1.600e+03 1.681e+03 1.764e+03\n",
      " 1.849e+03 1.936e+03 2.025e+03 2.116e+03 2.209e+03 2.304e+03 2.401e+03\n",
      " 2.500e+03 2.601e+03 2.704e+03 2.809e+03 2.916e+03 3.025e+03 3.136e+03\n",
      " 3.249e+03 3.364e+03 3.481e+03 3.600e+03 3.721e+03 3.844e+03 3.969e+03\n",
      " 4.096e+03 4.225e+03 4.356e+03 4.489e+03 4.624e+03 4.761e+03 4.900e+03\n",
      " 5.041e+03 5.184e+03 5.329e+03 5.476e+03 5.625e+03 5.776e+03 5.929e+03\n",
      " 6.084e+03 6.241e+03 6.400e+03 6.561e+03 6.724e+03 6.889e+03 7.056e+03\n",
      " 7.225e+03 7.396e+03 7.569e+03 7.744e+03 7.921e+03 8.100e+03 8.281e+03\n",
      " 8.464e+03 8.649e+03 8.836e+03 9.025e+03 9.216e+03 9.409e+03 9.604e+03\n",
      " 9.801e+03 1.000e+04]\n"
     ]
    }
   ],
   "source": [
    "import numpy as np\n",
    "\n",
    "tall = np.zeros(100)\n",
    "\n",
    "for i in range(1, 101):\n",
    "    tall[i-1] = i**2\n",
    "print(tall)"
   ]
  },
  {
   "cell_type": "markdown",
   "metadata": {},
   "source": [
    "### Oppgave 6\n",
    "Vi sjekker om prikkproduktet blir null. "
   ]
  },
  {
   "cell_type": "code",
   "execution_count": 5,
   "metadata": {},
   "outputs": [
    {
     "name": "stdout",
     "output_type": "stream",
     "text": [
      "prikkproduktet er 0\n"
     ]
    }
   ],
   "source": [
    "import numpy as np\n",
    "\n",
    "v = np.array([1, -1, 0])\n",
    "w = np.array([2, 2, 3])\n",
    "\n",
    "prikk = np.dot(v, w)\n",
    "print(\"prikkproduktet er\", prikk)"
   ]
  },
  {
   "cell_type": "markdown",
   "metadata": {},
   "source": [
    "Siden prikkproduktet er 0 konkluderer vi med at vektorene står ortogonalt på hverandre. "
   ]
  },
  {
   "cell_type": "markdown",
   "metadata": {},
   "source": [
    "## Tupler\n",
    "\n",
    "### Oppgave 7"
   ]
  },
  {
   "cell_type": "code",
   "execution_count": 14,
   "metadata": {},
   "outputs": [],
   "source": [
    "svart = (0, 0, 0)\n",
    "rød = (255, 0, 0)\n",
    "grønn = (0, 255, 0)\n",
    "blå = (0, 0, 255)\n",
    "hvit = (255, 255, 255)"
   ]
  },
  {
   "cell_type": "markdown",
   "metadata": {},
   "source": [
    "### Oppgave 8"
   ]
  },
  {
   "cell_type": "code",
   "execution_count": 27,
   "metadata": {},
   "outputs": [
    {
     "name": "stdout",
     "output_type": "stream",
     "text": [
      "Lengden av a er 5.830951894845301\n",
      "Lengden av b er 7.211102550927978\n",
      "Prikkproduktet av a og b er 42\n",
      "Vinkelen mellom a og b er 2.7263109939063455 grader\n"
     ]
    }
   ],
   "source": [
    "a = (3, 5)\n",
    "b = (4, 6)\n",
    "\n",
    "norm_a = (a[0]**2+a[1]**2)**0.5\n",
    "print(\"Lengden av a er\", norm_a)\n",
    "norm_b = (b[0]**2+b[1]**2)**0.5\n",
    "print(\"Lengden av b er\", norm_b)\n",
    "prikk = a[0]*b[0] + a[1]*b[1]\n",
    "print(\"Prikkproduktet av a og b er\", prikk)\n",
    "from numpy import arccos, degrees\n",
    "\n",
    "vinkel = arccos(prikk/(norm_a*norm_b))\n",
    "print(\"Vinkelen mellom a og b er\", degrees(vinkel), \"grader\")"
   ]
  },
  {
   "cell_type": "code",
   "execution_count": 28,
   "metadata": {},
   "outputs": [
    {
     "name": "stdin",
     "output_type": "stream",
     "text": [
      "x-komponent av a: 3\n",
      "y-komponent av a: 5\n",
      "x-komponent av b: 4\n",
      "y-komponent av b: 6\n"
     ]
    },
    {
     "name": "stdout",
     "output_type": "stream",
     "text": [
      "Lengden av a er 5.830951894845301\n",
      "Lengden av b er 7.211102550927978\n",
      "Prikkproduktet av a og b er 42\n",
      "Vinkelen mellom a og b er 2.7263109939063455 grader\n"
     ]
    }
   ],
   "source": [
    "ax = int(input(\"x-komponent av a:\"))\n",
    "ay = int(input(\"y-komponent av a:\"))\n",
    "bx = int(input(\"x-komponent av b:\"))\n",
    "by = int(input(\"y-komponent av b:\"))\n",
    "a = (ax, ay) \n",
    "b = (bx, by)\n",
    "\n",
    "norm_a = (a[0]**2+a[1]**2)**0.5\n",
    "print(\"Lengden av a er\", norm_a)\n",
    "norm_b = (b[0]**2+b[1]**2)**0.5\n",
    "print(\"Lengden av b er\", norm_b)\n",
    "prikk = a[0]*b[0] + a[1]*b[1]\n",
    "print(\"Prikkproduktet av a og b er\", prikk)\n",
    "from numpy import arccos, degrees\n",
    "\n",
    "vinkel = arccos(prikk/(norm_a*norm_b))\n",
    "print(\"Vinkelen mellom a og b er\", degrees(vinkel), \"grader\")"
   ]
  },
  {
   "cell_type": "markdown",
   "metadata": {},
   "source": [
    "Om vi gjør det samme med arrayer slipper vi å lage så omfattende utrykk for lengde og prikkprodukt av vektorene, fordi vi kan bruke array-operasjoner i numpy. "
   ]
  },
  {
   "cell_type": "markdown",
   "metadata": {},
   "source": [
    "## Dictionarier\n",
    "\n",
    "### Oppgave 9"
   ]
  },
  {
   "cell_type": "code",
   "execution_count": 32,
   "metadata": {},
   "outputs": [],
   "source": [
    "elever = [\"Peder\", \"Elias\", \"Nora\"]\n",
    "lærere = [\"Einar\"]\n",
    "\n",
    "klasseliste = {}\n",
    "klasseliste[\"Lærer\"] = lærere[0]\n",
    "klasseliste[\"Elev 1\"] = elever[0]\n",
    "klasseliste[\"Elev 2\"] = elever[1]\n",
    "klasseliste[\"Elev 3\"] = elever[2]"
   ]
  },
  {
   "cell_type": "markdown",
   "metadata": {},
   "source": [
    "### Oppgave 10"
   ]
  },
  {
   "cell_type": "code",
   "execution_count": 33,
   "metadata": {},
   "outputs": [
    {
     "name": "stdout",
     "output_type": "stream",
     "text": [
      "RGB-koden for Rød er (255, 0, 0)\n",
      "RGB-koden for Grønn er (0, 255, 0)\n",
      "RGB-koden for Blå er (0, 0, 255)\n",
      "RGB-koden for Gul er (255, 255, 0)\n",
      "RGB-koden for Turkis er (0, 255, 255)\n"
     ]
    }
   ],
   "source": [
    "farger = {\"Rød\": (255, 0, 0), \"Grønn\": (0, 255,0), \"Blå\": (0, 0, 255), \"Gul\": (255, 255, 0), \"Turkis\": (0, 255,255)}\n",
    "\n",
    "for farge in farger.keys():\n",
    "    print(\"RGB-koden for\", farge, \"er\", farger[farge])"
   ]
  },
  {
   "cell_type": "markdown",
   "metadata": {},
   "source": [
    "### Oppgave 11\n",
    "\n",
    "_Kommer etterhvert_"
   ]
  },
  {
   "cell_type": "code",
   "execution_count": null,
   "metadata": {},
   "outputs": [],
   "source": []
  }
 ],
 "metadata": {
  "kernelspec": {
   "display_name": "Python 3",
   "language": "python",
   "name": "python3"
  },
  "language_info": {
   "codemirror_mode": {
    "name": "ipython",
    "version": 3
   },
   "file_extension": ".py",
   "mimetype": "text/x-python",
   "name": "python",
   "nbconvert_exporter": "python",
   "pygments_lexer": "ipython3",
   "version": "3.7.6"
  }
 },
 "nbformat": 4,
 "nbformat_minor": 4
}
