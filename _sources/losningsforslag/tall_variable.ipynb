{
 "cells": [
  {
   "cell_type": "markdown",
   "metadata": {},
   "source": [
    "### Oppgave 2.13.13"
   ]
  },
  {
   "cell_type": "code",
   "execution_count": 1,
   "metadata": {},
   "outputs": [
    {
     "name": "stdout",
     "output_type": "stream",
     "text": [
      "Sidelengden AC = 1.52\n"
     ]
    }
   ],
   "source": [
    "import numpy as np\n",
    "\"\"\"\n",
    "Regner ukjent side AC med sinussetningen\n",
    "gitt følgende opplysninger:\n",
    "BC = 3\n",
    "Vinkel B = 30 grader\n",
    "Vinkel C = 80 grader\n",
    "\"\"\"\n",
    "AB = 3 \n",
    "vinkelB = 30\n",
    "vinkelC = 80\n",
    "\n",
    "AC = AB*np.sin(np.radians(vinkelB))/np.sin(np.radians(vinkelC))\n",
    "print(\"Sidelengden AC =\", round(AC,2))"
   ]
  },
  {
   "cell_type": "markdown",
   "metadata": {},
   "source": [
    "### Oppgave 2.13.15"
   ]
  },
  {
   "cell_type": "code",
   "execution_count": 2,
   "metadata": {},
   "outputs": [
    {
     "name": "stdout",
     "output_type": "stream",
     "text": [
      "Konsentrasjonen av base er: 0.0013 mol/L.\n",
      "pH-en er: 2.88\n"
     ]
    }
   ],
   "source": [
    "\n",
    "\"\"\"\n",
    "Regner ut konsentrasjonen av acetat/oksonium\n",
    "gitt konsentrasjonen til eddiksyre lik 0,10 mol/L\n",
    "og Ka = 1,8x10^-5.\n",
    "\n",
    "Legg merke til at programmet kan brukes for en generell syre.\n",
    "Du trenger bare å spesifisere en ny konsentrasjon og Ka.\n",
    "\"\"\"\n",
    "import numpy as np\n",
    "\n",
    "Ka = 1.8E-5\n",
    "kons_syre = 0.10\n",
    "\n",
    "# Løser andregradslikningen\n",
    "a = 1\n",
    "b = Ka\n",
    "c = -kons_syre*Ka\n",
    "\n",
    "x1 = (-b+np.sqrt(b**2 - 4*a*c))/(2*a)\n",
    "x2 = (-b-np.sqrt(b**2 - 4*a*c))/(2*a)\n",
    "\n",
    "print(\"Konsentrasjonen av base er:\", round(x1,4), \"mol/L.\")\n",
    "\n",
    "\"\"\"\n",
    "Vi kan også bruke opplysningene til å regne ut pH-en\n",
    "\"\"\"\n",
    "\n",
    "pH = -np.log10(x1)\n",
    "print(\"pH-en er:\",round(pH,2))\n",
    "\n"
   ]
  },
  {
   "cell_type": "markdown",
   "metadata": {},
   "source": [
    "### Oppgave 2.13.26"
   ]
  },
  {
   "cell_type": "code",
   "execution_count": 3,
   "metadata": {},
   "outputs": [
    {
     "name": "stdout",
     "output_type": "stream",
     "text": [
      "Hva er startfarten i m/s? 3\n",
      "Hva er akselerasjonen i m/s^2? 4\n",
      "Hva er tida i s? 1\n",
      "Sluttfarten er: 7.0 m/s.\n"
     ]
    }
   ],
   "source": [
    "# Eksempel der fartsformelen er brukt med input\n",
    "v0 = float(input(\"Hva er startfarten i m/s? \"))\n",
    "a = float(input(\"Hva er akselerasjonen i m/s^2? \"))\n",
    "t = float(input(\"Hva er tida i s? \"))\n",
    "\n",
    "v = v0 + a*t\n",
    "\n",
    "print(\"Sluttfarten er:\", v, \"m/s.\")"
   ]
  }
 ],
 "metadata": {
  "kernelspec": {
   "display_name": "Python 3",
   "language": "python",
   "name": "python3"
  },
  "language_info": {
   "codemirror_mode": {
    "name": "ipython",
    "version": 3
   },
   "file_extension": ".py",
   "mimetype": "text/x-python",
   "name": "python",
   "nbconvert_exporter": "python",
   "pygments_lexer": "ipython3",
   "version": "3.7.6"
  }
 },
 "nbformat": 4,
 "nbformat_minor": 4
}
