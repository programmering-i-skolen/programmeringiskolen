{
 "cells": [
  {
   "cell_type": "markdown",
   "metadata": {},
   "source": [
    "# 2. Tall og variabler"
   ]
  },
  {
   "cell_type": "markdown",
   "metadata": {},
   "source": [
    "På denne siden finner du løsningsforslag til oppgavene tilhørende kapittel 2 i læreboken _Programmering i skolen_. Vi gir også løsning på de av underveisoppgavene som har en tydelig løsning. Noen av underveisoppgavene er såpass utforskende eller diskusjonsbareter at det blir rart å lage løsningsforslag. \n",
    "\n",
    "## Underveisoppgaver"
   ]
  },
  {
   "cell_type": "markdown",
   "metadata": {},
   "source": [
    "### Underveisoppgave 2.1: Flyttall og desimaltall\n",
    "\n",
    "1. Resultatet av beregningen blir "
   ]
  },
  {
   "cell_type": "code",
   "execution_count": 9,
   "metadata": {},
   "outputs": [
    {
     "name": "stdout",
     "output_type": "stream",
     "text": [
      "0.9000000000000001\n"
     ]
    }
   ],
   "source": [
    "print((0.1 + 0.2) * 3)"
   ]
  },
  {
   "cell_type": "markdown",
   "metadata": {},
   "source": [
    "som er bittelitt annerledes enn når vi gjør det for hånd. For hånd blir svaret eksakt lik 9. \n",
    "\n",
    "2. Det er ikke mulig å representere tallene 0.1 og 0.2 eksakt i 2-tallsystemet med 64 bits. Derfor ender datamaskinen med å lage tallene avrundet til nærmeste verdi i 2-tallsystemet. \n",
    "\n",
    "3. For eksempel: "
   ]
  },
  {
   "cell_type": "code",
   "execution_count": 7,
   "metadata": {},
   "outputs": [
    {
     "name": "stdout",
     "output_type": "stream",
     "text": [
      "5.551115123125783e-17\n"
     ]
    }
   ],
   "source": [
    "print(0.1*3-0.3)"
   ]
  },
  {
   "cell_type": "markdown",
   "metadata": {},
   "source": [
    "Dette burde blitt eksakt lik 0, men det ble det ikke pga. avrundingsfeil. "
   ]
  },
  {
   "cell_type": "markdown",
   "metadata": {},
   "source": [
    "### Underveisoppgave 2.4: Partall og oddetall\n",
    "Et partall $n$ har egenkapen $n\\%2 = 0$, mens et oddetall har tilsvarende at $n\\%2 = 1$. Dette kan vi bruke til å finne ut om et tall er partall eller oddetall. Eksempel: "
   ]
  },
  {
   "cell_type": "code",
   "execution_count": 14,
   "metadata": {},
   "outputs": [
    {
     "name": "stdout",
     "output_type": "stream",
     "text": [
      "6%2: 0\n",
      "3%2: 1\n"
     ]
    }
   ],
   "source": [
    "print(\"6%2:\", 6%2)\n",
    "print(\"3%2:\", 3%2)"
   ]
  },
  {
   "cell_type": "markdown",
   "metadata": {},
   "source": [
    "### Underveisoppgave 2.5"
   ]
  },
  {
   "cell_type": "code",
   "execution_count": 21,
   "metadata": {},
   "outputs": [
    {
     "name": "stdout",
     "output_type": "stream",
     "text": [
      "[2, 5, 3, 7]\n",
      "[7, 45, 78, 19, 4]\n",
      "[2, 5, 3, 7, 7, 45, 78, 19, 4]\n"
     ]
    }
   ],
   "source": [
    "liste_a = [2, 5, 3, 7, 6]\n",
    "liste_b = [7, 3, 45, 78, 19]\n",
    "\n",
    "# Slett det siste elementet i den ene lista \n",
    "liste_a.remove(6)\n",
    "# alternative metoder:\n",
    "# liste_a.pop()\n",
    "# del liste_a[-1]\n",
    "\n",
    "# Legg til et tall \n",
    "liste_b.append(4)\n",
    "\n",
    "# Slett element nr. 2. \n",
    "del liste_b[1]\n",
    "\n",
    "# Lag en ny variabel der du adderer listene\n",
    "liste_c = liste_a + liste_b\n",
    "\n",
    "# Skriv ut de tre listene\n",
    "print(liste_a)\n",
    "print(liste_b)\n",
    "print(liste_c)"
   ]
  },
  {
   "cell_type": "markdown",
   "metadata": {},
   "source": [
    "Vi ser at `+`-operasjonen mellom to lister er å legge alle elementene i de to listene etter hverandre i en ny liste. "
   ]
  },
  {
   "cell_type": "markdown",
   "metadata": {},
   "source": [
    "### Underveisoppgave 2.6: Rett opp, så input\n",
    "Vi begynner med å prøve å kjøre koden slik den er oppgitt:"
   ]
  },
  {
   "cell_type": "code",
   "execution_count": 23,
   "metadata": {},
   "outputs": [
    {
     "ename": "SyntaxError",
     "evalue": "invalid syntax (<ipython-input-23-8682cf8e4fe7>, line 3)",
     "output_type": "error",
     "traceback": [
      "\u001b[0;36m  File \u001b[0;32m\"<ipython-input-23-8682cf8e4fe7>\"\u001b[0;36m, line \u001b[0;32m3\u001b[0m\n\u001b[0;31m    print(\"Du er på\", prosentAndel \"prosent av Mount Everest ved\",\u001b[0m\n\u001b[0m                                   ^\u001b[0m\n\u001b[0;31mSyntaxError\u001b[0m\u001b[0;31m:\u001b[0m invalid syntax\n"
     ]
    }
   ],
   "source": [
    "høyde = 3480\n",
    "prosentAndel = høyde/8848\n",
    "print(\"Du er på\", prosentAndel \"prosent av Mount Everest ved\",\n",
    "    høyde, \"meter\")"
   ]
  },
  {
   "cell_type": "markdown",
   "metadata": {},
   "source": [
    "Da får vi en feilmelding. Det er en syntaksfeil, og her kommer det også opp en pil som viser hvor Python ble forvirra. Vi har glemt et komma etter `prosentAndel` i print-funksjonen. Når vi retter opp dette fungerer koden fint: "
   ]
  },
  {
   "cell_type": "code",
   "execution_count": 25,
   "metadata": {},
   "outputs": [
    {
     "name": "stdout",
     "output_type": "stream",
     "text": [
      "Du er på 0.3933092224231465 prosent av Mount Everest ved 3480 meter\n"
     ]
    }
   ],
   "source": [
    "høyde = 3480\n",
    "prosentAndel = høyde/8848\n",
    "print(\"Du er på\", prosentAndel, \"prosent av Mount Everest ved\",\n",
    "    høyde, \"meter\")"
   ]
  },
  {
   "cell_type": "markdown",
   "metadata": {},
   "source": [
    "Så bytter vi ut kodelinja som setter høyden med en kodelinje som tar inn dette tallet fra brukeren:"
   ]
  },
  {
   "cell_type": "code",
   "execution_count": 27,
   "metadata": {},
   "outputs": [
    {
     "name": "stdin",
     "output_type": "stream",
     "text": [
      "Hvor høyt sitter du? 2469\n"
     ]
    },
    {
     "name": "stdout",
     "output_type": "stream",
     "text": [
      "Du er på 0.2790461121157324 prosent av Mount Everest ved 2469 meter\n"
     ]
    }
   ],
   "source": [
    "høyde = int(input(\"Hvor høyt sitter du?\"))\n",
    "prosentAndel = høyde/8848\n",
    "print(\"Du er på\", prosentAndel, \"prosent av Mount Everest ved\",\n",
    "    høyde, \"meter\")"
   ]
  },
  {
   "cell_type": "markdown",
   "metadata": {},
   "source": [
    "## Tall og variabler\n",
    "\n",
    "I disse oppgavene kommer vi til å benytte _input_, som ikke kommer før oppgaver tilhørende 2.13.2. Om du ikke ønsker å benytte _input_ i disse oppgavene er det helt i orden å erstatte dette med en verdi du selv velger, og legge denne verdien direkte i koden.\n",
    "\n",
    "### Oppgave 1\n",
    "Den viktigste forskjellen er at vi i programmering pleier å tilordne verdier til variabler, mens vi i matematikken pleier å sette en variabel lik et matematisk uttrykk. I programmering regner datamaskinen ut hva som står til høyre for likhetstegnet, og tilordner det til variabelen. I matematikk pleier vi derimot bare å beskrive relasjonen mellom variabler. Kanskje skal vi så manipulere uttrykket og sette det sammen med mer informasjon for å finne ut av verdien til en av variablene på høyre side av likningen? \n",
    "\n",
    "\n",
    "### Oppgave 2 "
   ]
  },
  {
   "cell_type": "code",
   "execution_count": 2,
   "metadata": {},
   "outputs": [
    {
     "name": "stdout",
     "output_type": "stream",
     "text": [
      "Summen er 9.0\n"
     ]
    }
   ],
   "source": [
    "a = 3.4 \n",
    "b = 5.6\n",
    "summen = a+b\n",
    "\n",
    "print(\"Summen er\", summen)"
   ]
  },
  {
   "cell_type": "markdown",
   "metadata": {},
   "source": [
    "### Oppgave 3\n",
    "Vi ser at `a` settes til 2. Så settes `a`til sin egen verdi pluss 1. Da har `a` verdien 3. Så settes en ny variabel `b` til to ganger verdien til `a`, altså 6. Denne verdien skal printes, så da får vi tro at programmet printer `6`. "
   ]
  },
  {
   "cell_type": "code",
   "execution_count": 4,
   "metadata": {},
   "outputs": [
    {
     "name": "stdout",
     "output_type": "stream",
     "text": [
      "6\n"
     ]
    }
   ],
   "source": [
    "a = 2 \n",
    "a = a + 1 \n",
    "b = 2 * a\n",
    "print(b)"
   ]
  },
  {
   "cell_type": "markdown",
   "metadata": {},
   "source": [
    "### Oppgave 4 \n",
    "$a=2$ går helt fint.\n",
    "\n",
    "$a = a + 1$ blir absurd matematisk, fordi det impliserer at 1 er lik 0.\n",
    "\n",
    "$b = 2a$ er uproblematisk. Om $a=2$, så må det bety at $b=4$. \n",
    "\n",
    "\n",
    "### Oppgave 5 \n",
    "Vi kan for eksempel prøve følgende:"
   ]
  },
  {
   "cell_type": "code",
   "execution_count": 7,
   "metadata": {},
   "outputs": [
    {
     "name": "stdout",
     "output_type": "stream",
     "text": [
      "Jeg skal aldri jukseJeg skal aldri jukseJeg skal aldri jukse\n"
     ]
    }
   ],
   "source": [
    "a = \"Jeg skal aldri jukse\"\n",
    "b = 3\n",
    "c = a*b\n",
    "print(c)"
   ]
  },
  {
   "cell_type": "markdown",
   "metadata": {},
   "source": [
    "Vi ser at å gange en streng med et heltall fører til at strengen gjentas det samme heltallet antall ganger. "
   ]
  },
  {
   "cell_type": "markdown",
   "metadata": {},
   "source": [
    "### Oppgave 6\n",
    "Vi kjører programmet: "
   ]
  },
  {
   "cell_type": "code",
   "execution_count": 9,
   "metadata": {},
   "outputs": [
    {
     "name": "stdout",
     "output_type": "stream",
     "text": [
      "16\n"
     ]
    }
   ],
   "source": [
    "tall1 = 2\n",
    "tall2 = 4\n",
    "print(tall1**tall2)"
   ]
  },
  {
   "cell_type": "markdown",
   "metadata": {},
   "source": [
    "`**` er potensoperatoren, og $2^4 = 16$, så dette passer fint. "
   ]
  },
  {
   "cell_type": "markdown",
   "metadata": {},
   "source": [
    "### Oppgave 7\n",
    "\n",
    "a) "
   ]
  },
  {
   "cell_type": "code",
   "execution_count": 1,
   "metadata": {},
   "outputs": [
    {
     "name": "stdin",
     "output_type": "stream",
     "text": [
      "Tast inn radius:  34\n"
     ]
    },
    {
     "name": "stdout",
     "output_type": "stream",
     "text": [
      "Arealet av sirkelen er 3631.681107549801\n"
     ]
    }
   ],
   "source": [
    "from pylab import *\n",
    "\n",
    "radius = float(input(\"Tast inn radius: \"))\n",
    "areal = pi*radius**2\n",
    "\n",
    "print(\"Arealet av sirkelen er\", areal)"
   ]
  },
  {
   "cell_type": "markdown",
   "metadata": {},
   "source": [
    "b)"
   ]
  },
  {
   "cell_type": "code",
   "execution_count": 3,
   "metadata": {},
   "outputs": [
    {
     "name": "stdin",
     "output_type": "stream",
     "text": [
      "Tast inn areal:  45\n"
     ]
    },
    {
     "name": "stdout",
     "output_type": "stream",
     "text": [
      "Radius i sirkelen er 2.1352876302515313\n"
     ]
    }
   ],
   "source": [
    "areal = float(input(\"Tast inn areal: \"))\n",
    "radius = sqrt(areal) / pi\n",
    "\n",
    "print(\"Radius i sirkelen er\", radius)"
   ]
  },
  {
   "cell_type": "markdown",
   "metadata": {},
   "source": [
    "### Oppgave 9"
   ]
  },
  {
   "cell_type": "code",
   "execution_count": 10,
   "metadata": {
    "scrolled": true
   },
   "outputs": [
    {
     "name": "stdin",
     "output_type": "stream",
     "text": [
      "Tast grunntall:  7\n"
     ]
    },
    {
     "name": "stdout",
     "output_type": "stream",
     "text": [
      "7.0 kvadrert er 49.0\n",
      "Roten av 49.0 er 7.0\n"
     ]
    }
   ],
   "source": [
    "grunntall = float(input(\"Tast grunntall: \"))\n",
    "\n",
    "kvadrert = grunntall**2\n",
    "print(grunntall, \"kvadrert er\", kvadrert)\n",
    "\n",
    "rot = kvadrert**0.5\n",
    "print(\"Roten av\", kvadrert, \"er\", rot)"
   ]
  },
  {
   "cell_type": "markdown",
   "metadata": {},
   "source": [
    "### Oppgave 10"
   ]
  },
  {
   "cell_type": "code",
   "execution_count": 12,
   "metadata": {},
   "outputs": [
    {
     "name": "stdout",
     "output_type": "stream",
     "text": [
      "7\n",
      "9\n",
      "2.0\n"
     ]
    }
   ],
   "source": [
    "print(1 + 2*3)\n",
    "print((1 + 2)*3)\n",
    "print(1+2/2)"
   ]
  },
  {
   "cell_type": "markdown",
   "metadata": {},
   "source": [
    "### Oppgave 11"
   ]
  },
  {
   "cell_type": "code",
   "execution_count": 14,
   "metadata": {},
   "outputs": [
    {
     "name": "stdout",
     "output_type": "stream",
     "text": [
      "-4.5\n"
     ]
    }
   ],
   "source": [
    "print(-3 + (1-9)/4 + 3/(12 - 3*2))\n",
    "\n",
    "# Her gjelder det å holde tunga rett i munnen, og legge inn parenteser der det er hensiktsmessig.\n",
    "# Er man usikker på om beregningen blir riktig, skader det aldri å legge til ekstra parenteser."
   ]
  },
  {
   "cell_type": "markdown",
   "metadata": {},
   "source": [
    "### Oppgave 12"
   ]
  },
  {
   "cell_type": "code",
   "execution_count": 1,
   "metadata": {},
   "outputs": [
    {
     "name": "stdout",
     "output_type": "stream",
     "text": [
      "1\n",
      "4\n",
      "9\n",
      "16\n",
      "1.0\n",
      "2.0\n",
      "3.0\n",
      "4.0\n"
     ]
    }
   ],
   "source": [
    "kvadrattall1 = 1**2\n",
    "kvadrattall2 = 2**2\n",
    "kvadrattall3 = 3**2\n",
    "kvadrattall4 = 4**2\n",
    "\n",
    "print(kvadrattall1)\n",
    "print(kvadrattall2)\n",
    "print(kvadrattall3)\n",
    "print(kvadrattall4)\n",
    "\n",
    "print(kvadrattall1**0.5)\n",
    "print(kvadrattall2**0.5)\n",
    "print(kvadrattall3**0.5)\n",
    "print(kvadrattall4**0.5)\n",
    "\n",
    "# Denne oppgaven kunne vært løst vha. en løkke, dette kommer vi til i et senere kapittel."
   ]
  },
  {
   "cell_type": "markdown",
   "metadata": {},
   "source": [
    "### Oppgave 13"
   ]
  },
  {
   "cell_type": "code",
   "execution_count": 18,
   "metadata": {},
   "outputs": [
    {
     "name": "stdout",
     "output_type": "stream",
     "text": [
      "Sidelengden AC = 1.52\n"
     ]
    }
   ],
   "source": [
    "import numpy as np\n",
    "\"\"\"\n",
    "Regner ukjent side AC med sinussetningen\n",
    "gitt følgende opplysninger:\n",
    "BC = 3\n",
    "Vinkel B = 30 grader\n",
    "Vinkel C = 80 grader\n",
    "\"\"\"\n",
    "AB = 3 \n",
    "vinkelB = 30\n",
    "vinkelC = 80\n",
    "\n",
    "AC = AB*np.sin(np.radians(vinkelB))/np.sin(np.radians(vinkelC))\n",
    "print(\"Sidelengden AC =\", round(AC,2))"
   ]
  },
  {
   "cell_type": "markdown",
   "metadata": {},
   "source": [
    "### Oppgave 14"
   ]
  },
  {
   "cell_type": "code",
   "execution_count": 22,
   "metadata": {},
   "outputs": [
    {
     "name": "stdout",
     "output_type": "stream",
     "text": [
      "Likningen har løsninger 0.0 og -2.0\n"
     ]
    }
   ],
   "source": [
    "x1 = (-2 + np.sqrt(4*1*1)) / 2*1\n",
    "x2 = (-2 - np.sqrt(4*1*1)) / 2*1\n",
    "\n",
    "print(\"Likningen har løsninger\", x1, \"og\", x2)\n",
    "\n",
    "# Merk at vi må regne ut x1 og x2 separat, Python forstår seg ikke på +/-."
   ]
  },
  {
   "cell_type": "markdown",
   "metadata": {},
   "source": [
    "### Oppgave 15\n"
   ]
  },
  {
   "cell_type": "code",
   "execution_count": 23,
   "metadata": {},
   "outputs": [
    {
     "name": "stdout",
     "output_type": "stream",
     "text": [
      "Konsentrasjonen av base er: 0.0013 mol/L.\n",
      "pH-en er: 2.88\n"
     ]
    }
   ],
   "source": [
    "\"\"\"\n",
    "Regner ut konsentrasjonen av acetat/oksonium\n",
    "gitt konsentrasjonen til eddiksyre lik 0,10 mol/L\n",
    "og Ka = 1,8x10^-5.\n",
    "\n",
    "Legg merke til at programmet kan brukes for en generell syre.\n",
    "Du trenger bare å spesifisere en ny konsentrasjon og Ka.\n",
    "\"\"\"\n",
    "import numpy as np\n",
    "\n",
    "Ka = 1.8E-5\n",
    "kons_syre = 0.10\n",
    "\n",
    "# Løser andregradslikningen\n",
    "a = 1\n",
    "b = Ka\n",
    "c = -kons_syre*Ka\n",
    "\n",
    "x1 = (-b+np.sqrt(b**2 - 4*a*c))/(2*a)\n",
    "x2 = (-b-np.sqrt(b**2 - 4*a*c))/(2*a)\n",
    "\n",
    "print(\"Konsentrasjonen av base er:\", round(x1,4), \"mol/L.\")\n",
    "\n",
    "\"\"\"\n",
    "Vi kan også bruke opplysningene til å regne ut pH-en\n",
    "\"\"\"\n",
    "\n",
    "pH = -np.log10(x1)\n",
    "print(\"pH-en er:\",round(pH,2))"
   ]
  },
  {
   "cell_type": "markdown",
   "metadata": {},
   "source": [
    "## Input\n",
    "\n",
    "### Oppgave 16"
   ]
  },
  {
   "cell_type": "code",
   "execution_count": 4,
   "metadata": {},
   "outputs": [
    {
     "name": "stdin",
     "output_type": "stream",
     "text": [
      "Tast ditt navn:  Henrik\n"
     ]
    },
    {
     "name": "stdout",
     "output_type": "stream",
     "text": [
      "Hei, Henrik\n"
     ]
    }
   ],
   "source": [
    "navn = input(\"Tast ditt navn: \")\n",
    "print(\"Hei,\", navn)"
   ]
  },
  {
   "cell_type": "markdown",
   "metadata": {},
   "source": [
    "### Oppgave 17"
   ]
  },
  {
   "cell_type": "code",
   "execution_count": 24,
   "metadata": {},
   "outputs": [
    {
     "name": "stdin",
     "output_type": "stream",
     "text": [
      "Antall år:  45\n"
     ]
    },
    {
     "name": "stdout",
     "output_type": "stream",
     "text": [
      "I løpet av 45 år, er det 1419120000 sekunder.\n"
     ]
    }
   ],
   "source": [
    "aar = int(input(\"Antall år: \"))\n",
    "sekunder = aar*365*24*60*60\n",
    "# 365 dager per år, 24 timer per dag, 60 minutter per time, 60 sekunder per minutt.\n",
    "\n",
    "print(\"I løpet av\", aar, \"år, er det\", sekunder, \"sekunder.\")"
   ]
  },
  {
   "cell_type": "markdown",
   "metadata": {},
   "source": [
    "### Oppgave 18"
   ]
  },
  {
   "cell_type": "code",
   "execution_count": 27,
   "metadata": {},
   "outputs": [
    {
     "name": "stdin",
     "output_type": "stream",
     "text": [
      "Tast inn a:  4\n",
      "Tast inn b:  8\n"
     ]
    },
    {
     "name": "stdout",
     "output_type": "stream",
     "text": [
      "4 / 8 = 0 + 4 i rest\n"
     ]
    }
   ],
   "source": [
    "a = int(input(\"Tast inn a: \"))\n",
    "b = int(input(\"Tast inn b: \"))\n",
    "\n",
    "kvotient = a//b\n",
    "rest = a % b\n",
    "\n",
    "print(a, \"/\", b, \"=\", kvotient, \"+\", rest, \"i rest\")"
   ]
  },
  {
   "cell_type": "markdown",
   "metadata": {},
   "source": [
    "### Oppgave 19"
   ]
  },
  {
   "cell_type": "code",
   "execution_count": 30,
   "metadata": {},
   "outputs": [
    {
     "name": "stdin",
     "output_type": "stream",
     "text": [
      "Tast radius:  4.7\n"
     ]
    },
    {
     "name": "stdout",
     "output_type": "stream",
     "text": [
      "Areal av sirkel er 69.39778171779854\n"
     ]
    }
   ],
   "source": [
    "from pylab import *\n",
    "\n",
    "radius = float(input(\"Tast radius: \"))\n",
    "areal = pi * radius**2\n",
    "\n",
    "print(\"Areal av sirkel er\", areal)"
   ]
  },
  {
   "cell_type": "markdown",
   "metadata": {},
   "source": [
    "### Oppgave 20"
   ]
  },
  {
   "cell_type": "code",
   "execution_count": 33,
   "metadata": {},
   "outputs": [
    {
     "name": "stdin",
     "output_type": "stream",
     "text": [
      "Tast grunnlinje:  5.8\n",
      "Tast høyde:  4\n"
     ]
    },
    {
     "name": "stdout",
     "output_type": "stream",
     "text": [
      "Arealet er 23.2\n"
     ]
    }
   ],
   "source": [
    "grunnlinje = float(input(\"Tast grunnlinje: \"))\n",
    "hoyde = float(input(\"Tast høyde: \"))\n",
    "\n",
    "areal = grunnlinje*hoyde / 2 + grunnlinje*hoyde / 2\n",
    "\n",
    "print(\"Arealet er\", areal)"
   ]
  },
  {
   "cell_type": "markdown",
   "metadata": {},
   "source": [
    "### Oppgave 21"
   ]
  },
  {
   "cell_type": "code",
   "execution_count": 34,
   "metadata": {},
   "outputs": [
    {
     "name": "stdin",
     "output_type": "stream",
     "text": [
      "Tast radius:  6.2\n"
     ]
    },
    {
     "name": "stdout",
     "output_type": "stream",
     "text": [
      "Overflate = 483.0512864159667\n",
      "Volum = 998.3059919263311\n"
     ]
    }
   ],
   "source": [
    "from pylab import *\n",
    "\n",
    "radius = float(input(\"Tast radius: \"))\n",
    "\n",
    "overflate = 4 * pi * radius**2\n",
    "volum = 1/3 * overflate * radius\n",
    "\n",
    "print(\"Overflate =\", overflate)\n",
    "print(\"Volum =\", volum)"
   ]
  },
  {
   "cell_type": "markdown",
   "metadata": {},
   "source": [
    "### Oppgave 22"
   ]
  },
  {
   "cell_type": "code",
   "execution_count": 36,
   "metadata": {},
   "outputs": [
    {
     "name": "stdin",
     "output_type": "stream",
     "text": [
      "Tast grunntall:  3\n",
      "Tast eksponent:  4\n"
     ]
    },
    {
     "name": "stdout",
     "output_type": "stream",
     "text": [
      "Grunntall opphøyet i eksponent: 81.0\n"
     ]
    }
   ],
   "source": [
    "grunntall = float(input(\"Tast grunntall: \"))\n",
    "eksponent = float(input(\"Tast eksponent: \"))\n",
    "\n",
    "print(\"Grunntall opphøyet i eksponent:\", grunntall**eksponent)"
   ]
  },
  {
   "cell_type": "markdown",
   "metadata": {},
   "source": [
    "## Lister\n",
    "\n",
    "### Oppgave 23"
   ]
  },
  {
   "cell_type": "code",
   "execution_count": 39,
   "metadata": {},
   "outputs": [
    {
     "name": "stdout",
     "output_type": "stream",
     "text": [
      "[2, 4, 6, 8, 10, 12, 14, 16, 1, 3, 5, 7, 9, 11, 13, 15]\n"
     ]
    },
    {
     "ename": "TypeError",
     "evalue": "can't multiply sequence by non-int of type 'list'",
     "output_type": "error",
     "traceback": [
      "\u001b[0;31m---------------------------------------------------------------------------\u001b[0m",
      "\u001b[0;31mTypeError\u001b[0m                                 Traceback (most recent call last)",
      "\u001b[0;32m<ipython-input-39-793f6270df37>\u001b[0m in \u001b[0;36m<module>\u001b[0;34m\u001b[0m\n\u001b[1;32m      6\u001b[0m \u001b[0;34m\u001b[0m\u001b[0m\n\u001b[1;32m      7\u001b[0m \u001b[0;31m# (b)\u001b[0m\u001b[0;34m\u001b[0m\u001b[0;34m\u001b[0m\u001b[0;34m\u001b[0m\u001b[0m\n\u001b[0;32m----> 8\u001b[0;31m \u001b[0mprint\u001b[0m\u001b[0;34m(\u001b[0m\u001b[0mpartall\u001b[0m\u001b[0;34m*\u001b[0m\u001b[0moddetall\u001b[0m\u001b[0;34m)\u001b[0m\u001b[0;34m\u001b[0m\u001b[0;34m\u001b[0m\u001b[0m\n\u001b[0m",
      "\u001b[0;31mTypeError\u001b[0m: can't multiply sequence by non-int of type 'list'"
     ]
    }
   ],
   "source": [
    "partall = [2, 4, 6, 8, 10, 12, 14, 16]\n",
    "oddetall = [1, 3, 5, 7, 9, 11, 13, 15]\n",
    "\n",
    "# (a)\n",
    "print(partall + oddetall) # de legges sammen til én lang liste\n",
    "\n",
    "# (b)\n",
    "print(partall*oddetall)"
   ]
  },
  {
   "cell_type": "code",
   "execution_count": 41,
   "metadata": {},
   "outputs": [
    {
     "ename": "TypeError",
     "evalue": "unsupported operand type(s) for /: 'list' and 'list'",
     "output_type": "error",
     "traceback": [
      "\u001b[0;31m---------------------------------------------------------------------------\u001b[0m",
      "\u001b[0;31mTypeError\u001b[0m                                 Traceback (most recent call last)",
      "\u001b[0;32m<ipython-input-41-631d93d7ea1c>\u001b[0m in \u001b[0;36m<module>\u001b[0;34m\u001b[0m\n\u001b[0;32m----> 1\u001b[0;31m \u001b[0mprint\u001b[0m\u001b[0;34m(\u001b[0m\u001b[0mpartall\u001b[0m\u001b[0;34m/\u001b[0m\u001b[0moddetall\u001b[0m\u001b[0;34m)\u001b[0m\u001b[0;34m\u001b[0m\u001b[0;34m\u001b[0m\u001b[0m\n\u001b[0m",
      "\u001b[0;31mTypeError\u001b[0m: unsupported operand type(s) for /: 'list' and 'list'"
     ]
    }
   ],
   "source": [
    "print(partall/oddetall)"
   ]
  },
  {
   "cell_type": "markdown",
   "metadata": {},
   "source": [
    "Vi ser at både multiplikasjon og divisjon av liste med liste gir `TypeError`. Det skyldes at disse operasjonene ikke er tillatt mellom to variabler av typen `list`."
   ]
  },
  {
   "cell_type": "markdown",
   "metadata": {},
   "source": [
    "### Oppgave 24"
   ]
  },
  {
   "cell_type": "code",
   "execution_count": 43,
   "metadata": {},
   "outputs": [
    {
     "name": "stdout",
     "output_type": "stream",
     "text": [
      "Ringenes herre finnes på indeks 3\n"
     ]
    }
   ],
   "source": [
    "serier = [\"Home and away\", \"7th heaven\", \"Pacific blue\", \"MacGyver\", \"Hotell Caesar\"]\n",
    "boeker = [\"Ringenes herre\", \"Fluenes herre\", \"Tatt av vinden\", \"Tatt av kvinnen\", \"Froeken Detektiv\"]\n",
    "\n",
    "# (a)\n",
    "alle = serier + boeker\n",
    "\n",
    "# (b)\n",
    "del alle[0]\n",
    "del alle[2]\n",
    "\n",
    "# (c)\n",
    "print(\"Ringenes herre finnes på indeks\", alle.index(\"Ringenes herre\"))\n",
    "\n",
    "# (d)\n",
    "nyliste = alle[3:7]\n",
    "\n",
    "# (e)\n",
    "nyliste = nyliste.reverse()"
   ]
  },
  {
   "cell_type": "markdown",
   "metadata": {},
   "source": [
    "### Oppgave 25\n",
    "\n",
    "Denne oppgaven løser du på egenhånd ved å slå opp i dokumentasjonen. "
   ]
  },
  {
   "cell_type": "markdown",
   "metadata": {},
   "source": [
    "### Oppgave 26"
   ]
  },
  {
   "cell_type": "code",
   "execution_count": 44,
   "metadata": {},
   "outputs": [
    {
     "name": "stdin",
     "output_type": "stream",
     "text": [
      "Hva er startfarten i m/s?  4.6\n",
      "Hva er akselerasjonen i m/s^2?  2\n",
      "Hva er tida i s?  9\n"
     ]
    },
    {
     "name": "stdout",
     "output_type": "stream",
     "text": [
      "Sluttfarten er: 22.6 m/s.\n"
     ]
    }
   ],
   "source": [
    "# Eksempel der fartsformelen er brukt med input\n",
    "v0 = float(input(\"Hva er startfarten i m/s? \"))\n",
    "a = float(input(\"Hva er akselerasjonen i m/s^2? \"))\n",
    "t = float(input(\"Hva er tida i s? \"))\n",
    "\n",
    "v = v0 + a*t\n",
    "\n",
    "print(\"Sluttfarten er:\", v, \"m/s.\")"
   ]
  }
 ],
 "metadata": {
  "kernelspec": {
   "display_name": "Python 3 (ipykernel)",
   "language": "python",
   "name": "python3"
  },
  "language_info": {
   "codemirror_mode": {
    "name": "ipython",
    "version": 3
   },
   "file_extension": ".py",
   "mimetype": "text/x-python",
   "name": "python",
   "nbconvert_exporter": "python",
   "pygments_lexer": "ipython3",
   "version": "3.8.5"
  }
 },
 "nbformat": 4,
 "nbformat_minor": 4
}
